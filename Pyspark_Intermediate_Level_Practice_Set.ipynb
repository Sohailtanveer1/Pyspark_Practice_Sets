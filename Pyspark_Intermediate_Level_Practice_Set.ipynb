{
  "cells": [
    {
      "cell_type": "markdown",
      "id": "1cac99d0",
      "metadata": {
        "id": "1cac99d0"
      },
      "source": [
        "# PySpark Intermediate Level Questions for Practice"
      ]
    },
    {
      "cell_type": "code",
      "execution_count": 1,
      "id": "3da8963c",
      "metadata": {
        "id": "3da8963c"
      },
      "outputs": [],
      "source": [
        "# Initialize Spark Session\n",
        "from pyspark.sql import SparkSession\n",
        "from pyspark.sql.functions import *\n",
        "from pyspark.sql.window import Window\n",
        "from pyspark.sql.types import *\n",
        "import datetime\n",
        "import random\n",
        "\n",
        "spark = SparkSession.builder \\\n",
        "    .appName(\"Data Processing Application\") \\\n",
        "    .master(\"local[*]\") \\\n",
        "    .getOrCreate()\n"
      ]
    },
    {
      "cell_type": "markdown",
      "id": "b1e3378c",
      "metadata": {
        "id": "b1e3378c"
      },
      "source": [
        "## 1. Customer Insights - Top 5 Cities by Number of Customers"
      ]
    },
    {
      "cell_type": "code",
      "execution_count": 2,
      "id": "f834fcce",
      "metadata": {
        "colab": {
          "base_uri": "https://localhost:8080/",
          "height": 0
        },
        "id": "f834fcce",
        "outputId": "4cbe7ab6-b52f-469a-a839-51c8f6f35957"
      },
      "outputs": [
        {
          "output_type": "stream",
          "name": "stdout",
          "text": [
            "+-----------+----------------+--------+\n",
            "|customer_id|           email|    city|\n",
            "+-----------+----------------+--------+\n",
            "|          1|john@example.com|New York|\n",
            "|          2| sarah@gmail.com|  London|\n",
            "|          3|  mike@yahoo.com|New York|\n",
            "|          4|lisa@example.com|   Paris|\n",
            "|          5|dave@outlook.com|  London|\n",
            "+-----------+----------------+--------+\n",
            "only showing top 5 rows\n",
            "\n"
          ]
        }
      ],
      "source": [
        "# Sample Data\n",
        "customers_data = [\n",
        "    (1, \"john@example.com\", \"New York\"),\n",
        "    (2, \"sarah@gmail.com\", \"London\"),\n",
        "    (3, \"mike@yahoo.com\", \"New York\"),\n",
        "    (4, \"lisa@example.com\", \"Paris\"),\n",
        "    (5, \"dave@outlook.com\", \"London\"),\n",
        "    (6, \"anna@gmail.com\", \"Berlin\")\n",
        "]\n",
        "customers = spark.createDataFrame(customers_data, [\"customer_id\", \"email\", \"city\"])\n",
        "customers.show(5)"
      ]
    },
    {
      "cell_type": "code",
      "source": [
        "top_cities = customers.groupBy(\"city\").count().orderBy(desc(\"count\")).limit(5)\n",
        "top_cities.show(5)"
      ],
      "metadata": {
        "colab": {
          "base_uri": "https://localhost:8080/",
          "height": 0
        },
        "id": "Pp6_bf5pph6o",
        "outputId": "e597870a-de72-497d-c968-4383f31d9117"
      },
      "id": "Pp6_bf5pph6o",
      "execution_count": 3,
      "outputs": [
        {
          "output_type": "stream",
          "name": "stdout",
          "text": [
            "+--------+-----+\n",
            "|    city|count|\n",
            "+--------+-----+\n",
            "|  London|    2|\n",
            "|New York|    2|\n",
            "|  Berlin|    1|\n",
            "|   Paris|    1|\n",
            "+--------+-----+\n",
            "\n"
          ]
        }
      ]
    },
    {
      "cell_type": "markdown",
      "id": "a4637b12",
      "metadata": {
        "id": "a4637b12"
      },
      "source": [
        "## 2. Sales Analysis - Remove Rows with Null Invoice Numbers"
      ]
    },
    {
      "cell_type": "code",
      "execution_count": 4,
      "id": "2b3e5c0e",
      "metadata": {
        "colab": {
          "base_uri": "https://localhost:8080/",
          "height": 0
        },
        "id": "2b3e5c0e",
        "outputId": "b558d09f-8b96-4de4-991a-33b45b36787b"
      },
      "outputs": [
        {
          "output_type": "stream",
          "name": "stdout",
          "text": [
            "+----------+----------+------+\n",
            "|invoice_id|product_id|amount|\n",
            "+----------+----------+------+\n",
            "|      1001|      A101| 25.99|\n",
            "|      NULL|      B202| 49.99|\n",
            "|      1003|      NULL| 15.49|\n",
            "|      1004|      C303|  75.0|\n",
            "+----------+----------+------+\n",
            "\n"
          ]
        }
      ],
      "source": [
        "# Sample Data\n",
        "sales_data = [\n",
        "    (1001, \"A101\", 25.99),\n",
        "    (None, \"B202\", 49.99),\n",
        "    (1003, None, 15.49),\n",
        "    (1004, \"C303\", 75.00)\n",
        "]\n",
        "sales = spark.createDataFrame(sales_data, [\"invoice_id\", \"product_id\", \"amount\"])\n",
        "sales.show()"
      ]
    },
    {
      "cell_type": "code",
      "source": [
        "clean_sales = sales.dropna(subset=[\"invoice_id\"])\n",
        "clean_sales.show()"
      ],
      "metadata": {
        "colab": {
          "base_uri": "https://localhost:8080/",
          "height": 0
        },
        "id": "3em7L3ixp_tq",
        "outputId": "e1444f19-0bb4-43fc-eede-8512e4a199d8"
      },
      "id": "3em7L3ixp_tq",
      "execution_count": 5,
      "outputs": [
        {
          "output_type": "stream",
          "name": "stdout",
          "text": [
            "+----------+----------+------+\n",
            "|invoice_id|product_id|amount|\n",
            "+----------+----------+------+\n",
            "|      1001|      A101| 25.99|\n",
            "|      1003|      NULL| 15.49|\n",
            "|      1004|      C303|  75.0|\n",
            "+----------+----------+------+\n",
            "\n"
          ]
        }
      ]
    },
    {
      "cell_type": "markdown",
      "id": "0086c0f5",
      "metadata": {
        "id": "0086c0f5"
      },
      "source": [
        "## 3. Marketing - Extract Email Domain from Email Addresses"
      ]
    },
    {
      "cell_type": "code",
      "execution_count": 6,
      "id": "b8c0cebc",
      "metadata": {
        "colab": {
          "base_uri": "https://localhost:8080/",
          "height": 0
        },
        "id": "b8c0cebc",
        "outputId": "668d4b5a-6831-4570-c5ab-dea581cb38e8"
      },
      "outputs": [
        {
          "output_type": "stream",
          "name": "stdout",
          "text": [
            "+----------------+-----------+\n",
            "|           email|     domain|\n",
            "+----------------+-----------+\n",
            "|john@example.com|example.com|\n",
            "| sarah@gmail.com|  gmail.com|\n",
            "|  mike@yahoo.com|  yahoo.com|\n",
            "|lisa@example.com|example.com|\n",
            "|dave@outlook.com|outlook.com|\n",
            "|  anna@gmail.com|  gmail.com|\n",
            "+----------------+-----------+\n",
            "\n"
          ]
        }
      ],
      "source": [
        "email_domains = customers.withColumn(\"domain\", split(col(\"email\"), \"@\").getItem(1))\n",
        "email_domains.select(\"email\", \"domain\").show()"
      ]
    },
    {
      "cell_type": "code",
      "source": [
        "user_name  = customers.withColumn(\"user_name\",split(col(\"email\"),\"@\").getItem(0))\n",
        "user_name.show()"
      ],
      "metadata": {
        "colab": {
          "base_uri": "https://localhost:8080/",
          "height": 0
        },
        "id": "Jy9ugwXWqfB5",
        "outputId": "02633786-6ec1-4f96-ebb0-d13aff62efee"
      },
      "id": "Jy9ugwXWqfB5",
      "execution_count": 7,
      "outputs": [
        {
          "output_type": "stream",
          "name": "stdout",
          "text": [
            "+-----------+----------------+--------+---------+\n",
            "|customer_id|           email|    city|user_name|\n",
            "+-----------+----------------+--------+---------+\n",
            "|          1|john@example.com|New York|     john|\n",
            "|          2| sarah@gmail.com|  London|    sarah|\n",
            "|          3|  mike@yahoo.com|New York|     mike|\n",
            "|          4|lisa@example.com|   Paris|     lisa|\n",
            "|          5|dave@outlook.com|  London|     dave|\n",
            "|          6|  anna@gmail.com|  Berlin|     anna|\n",
            "+-----------+----------------+--------+---------+\n",
            "\n"
          ]
        }
      ]
    },
    {
      "cell_type": "markdown",
      "id": "b1463c79",
      "metadata": {
        "id": "b1463c79"
      },
      "source": [
        "## 4. Retail: Products with Zero Quantity Sold"
      ]
    },
    {
      "cell_type": "code",
      "execution_count": 8,
      "id": "92adb304",
      "metadata": {
        "colab": {
          "base_uri": "https://localhost:8080/",
          "height": 0
        },
        "id": "92adb304",
        "outputId": "48f6a419-032f-4873-82ad-179bdedb0768"
      },
      "outputs": [
        {
          "output_type": "stream",
          "name": "stdout",
          "text": [
            "+----------+------------+-------------+\n",
            "|product_id|product_name|quantity_sold|\n",
            "+----------+------------+-------------+\n",
            "|      P100|       Phone|            0|\n",
            "|      P200|      Laptop|           12|\n",
            "|      P300|      Tablet|            0|\n",
            "|      P400|     Monitor|            5|\n",
            "+----------+------------+-------------+\n",
            "\n"
          ]
        }
      ],
      "source": [
        "# Sample Data\n",
        "inventory_data = [\n",
        "    (\"P100\", \"Phone\", 0),\n",
        "    (\"P200\", \"Laptop\", 12),\n",
        "    (\"P300\", \"Tablet\", 0),\n",
        "    (\"P400\", \"Monitor\", 5)\n",
        "]\n",
        "inventory = spark.createDataFrame(inventory_data, [\"product_id\", \"product_name\", \"quantity_sold\"])\n",
        "inventory.show()"
      ]
    },
    {
      "cell_type": "code",
      "source": [
        "inventory.select(\"product_name\").where(col(\"quantity_sold\") == 0).show()"
      ],
      "metadata": {
        "colab": {
          "base_uri": "https://localhost:8080/",
          "height": 0
        },
        "id": "sY4zb7cKq6f5",
        "outputId": "9c41e9dc-cef8-4edc-ea59-b78ced365b4b"
      },
      "id": "sY4zb7cKq6f5",
      "execution_count": 9,
      "outputs": [
        {
          "output_type": "stream",
          "name": "stdout",
          "text": [
            "+------------+\n",
            "|product_name|\n",
            "+------------+\n",
            "|       Phone|\n",
            "|      Tablet|\n",
            "+------------+\n",
            "\n"
          ]
        }
      ]
    },
    {
      "cell_type": "markdown",
      "id": "91598dba",
      "metadata": {
        "id": "91598dba"
      },
      "source": [
        "## 5. E-commerce: Customers with No Orders"
      ]
    },
    {
      "cell_type": "code",
      "execution_count": 10,
      "id": "e720fe4d",
      "metadata": {
        "colab": {
          "base_uri": "https://localhost:8080/",
          "height": 0
        },
        "id": "e720fe4d",
        "outputId": "e4f0fb48-149d-4953-ab36-813b6267a06f"
      },
      "outputs": [
        {
          "output_type": "stream",
          "name": "stdout",
          "text": [
            "+--------+-----------+----------+\n",
            "|order_id|customer_id|order_date|\n",
            "+--------+-----------+----------+\n",
            "|     101|          1|2023-10-01|\n",
            "|     102|          3|2023-10-05|\n",
            "+--------+-----------+----------+\n",
            "\n"
          ]
        }
      ],
      "source": [
        "# Sample Data\n",
        "orders_data = [(101, 1, \"2023-10-01\"), (102, 3, \"2023-10-05\")]\n",
        "orders = spark.createDataFrame(orders_data, [\"order_id\", \"customer_id\", \"order_date\"])\n",
        "orders.show()"
      ]
    },
    {
      "cell_type": "code",
      "source": [
        "customers.join(orders, \"customer_id\",\"left_anti\").select(\"customer_id\").show()"
      ],
      "metadata": {
        "colab": {
          "base_uri": "https://localhost:8080/",
          "height": 0
        },
        "id": "iwFMz6nQruPw",
        "outputId": "d1d01c24-6a83-4e6e-de0f-5142336203b5"
      },
      "id": "iwFMz6nQruPw",
      "execution_count": 11,
      "outputs": [
        {
          "output_type": "stream",
          "name": "stdout",
          "text": [
            "+-----------+\n",
            "|customer_id|\n",
            "+-----------+\n",
            "|          2|\n",
            "|          6|\n",
            "|          5|\n",
            "|          4|\n",
            "+-----------+\n",
            "\n"
          ]
        }
      ]
    },
    {
      "cell_type": "markdown",
      "id": "24ba91a1",
      "metadata": {
        "id": "24ba91a1"
      },
      "source": [
        "## 6. Finance: High-Value Transactions (>$10K)"
      ]
    },
    {
      "cell_type": "code",
      "execution_count": 12,
      "id": "42d71435",
      "metadata": {
        "colab": {
          "base_uri": "https://localhost:8080/",
          "height": 0
        },
        "id": "42d71435",
        "outputId": "e74c7176-ee02-4787-c505-745193e7dda5"
      },
      "outputs": [
        {
          "output_type": "stream",
          "name": "stdout",
          "text": [
            "+------+-----------+-------+\n",
            "|txn_id|customer_id| amount|\n",
            "+------+-----------+-------+\n",
            "|  5001|          1| 9500.0|\n",
            "|  5002|          2|12000.0|\n",
            "|  5003|          3| 8500.0|\n",
            "|  5004|          4|15000.0|\n",
            "+------+-----------+-------+\n",
            "\n"
          ]
        }
      ],
      "source": [
        "# Sample Data\n",
        "transactions_data = [\n",
        "    (5001, 1, 9500.0),\n",
        "    (5002, 2, 12000.0),\n",
        "    (5003, 3, 8500.0),\n",
        "    (5004, 4, 15000.0)\n",
        "]\n",
        "transactions = spark.createDataFrame(transactions_data, [\"txn_id\", \"customer_id\", \"amount\"])\n",
        "transactions.show()"
      ]
    },
    {
      "cell_type": "code",
      "source": [
        "transactions.select(\"txn_id\",\"customer_id\").where(col(\"amount\")>10000).show()"
      ],
      "metadata": {
        "colab": {
          "base_uri": "https://localhost:8080/",
          "height": 0
        },
        "id": "MfCdUoP8shQP",
        "outputId": "c108bda5-2075-4dc1-91cc-a52ac393c6f4"
      },
      "id": "MfCdUoP8shQP",
      "execution_count": 13,
      "outputs": [
        {
          "output_type": "stream",
          "name": "stdout",
          "text": [
            "+------+-----------+\n",
            "|txn_id|customer_id|\n",
            "+------+-----------+\n",
            "|  5002|          2|\n",
            "|  5004|          4|\n",
            "+------+-----------+\n",
            "\n"
          ]
        }
      ]
    },
    {
      "cell_type": "markdown",
      "id": "79485a34",
      "metadata": {
        "id": "79485a34"
      },
      "source": [
        "## 7. Product Analysis: Top Products per Region"
      ]
    },
    {
      "cell_type": "code",
      "execution_count": 14,
      "id": "6676af71",
      "metadata": {
        "colab": {
          "base_uri": "https://localhost:8080/",
          "height": 0
        },
        "id": "6676af71",
        "outputId": "f6cd8862-8777-4c74-e67e-efaa12cd7d7c"
      },
      "outputs": [
        {
          "output_type": "stream",
          "name": "stdout",
          "text": [
            "+------+-------+-----+\n",
            "|region|product|sales|\n",
            "+------+-------+-----+\n",
            "| North|  Phone|  150|\n",
            "| North| Laptop|  200|\n",
            "| South|  Phone|  300|\n",
            "| South| Tablet|  100|\n",
            "|  East| Laptop|  250|\n",
            "|  West|  Phone|  180|\n",
            "+------+-------+-----+\n",
            "\n"
          ]
        }
      ],
      "source": [
        "# Sample Data\n",
        "region_sales_data = [\n",
        "    (\"North\", \"Phone\", 150),\n",
        "    (\"North\", \"Laptop\", 200),\n",
        "    (\"South\", \"Phone\", 300),\n",
        "    (\"South\", \"Tablet\", 100),\n",
        "    (\"East\", \"Laptop\", 250),\n",
        "    (\"West\", \"Phone\", 180)\n",
        "]\n",
        "region_sales = spark.createDataFrame(region_sales_data, [\"region\", \"product\", \"sales\"])\n",
        "region_sales.show()"
      ]
    },
    {
      "cell_type": "code",
      "source": [
        "window_spec = Window.partitionBy(\"region\").orderBy(desc(\"sales\"))\n",
        "top_products = region_sales.withColumn(\"rank\", row_number().over(window_spec)).filter(col(\"rank\")==1)\n",
        "top_products.show()"
      ],
      "metadata": {
        "colab": {
          "base_uri": "https://localhost:8080/",
          "height": 0
        },
        "id": "DwbFfgkctAm_",
        "outputId": "c15f5ea6-7e4a-4e95-a3eb-19e1d9e52d8c"
      },
      "id": "DwbFfgkctAm_",
      "execution_count": 15,
      "outputs": [
        {
          "output_type": "stream",
          "name": "stdout",
          "text": [
            "+------+-------+-----+----+\n",
            "|region|product|sales|rank|\n",
            "+------+-------+-----+----+\n",
            "|  East| Laptop|  250|   1|\n",
            "| North| Laptop|  200|   1|\n",
            "| South|  Phone|  300|   1|\n",
            "|  West|  Phone|  180|   1|\n",
            "+------+-------+-----+----+\n",
            "\n"
          ]
        }
      ]
    },
    {
      "cell_type": "markdown",
      "id": "7ac798d5",
      "metadata": {
        "id": "7ac798d5"
      },
      "source": [
        "## 8. Logistics: Total Weight by Country"
      ]
    },
    {
      "cell_type": "code",
      "execution_count": 16,
      "id": "4dc13505",
      "metadata": {
        "colab": {
          "base_uri": "https://localhost:8080/",
          "height": 0
        },
        "id": "4dc13505",
        "outputId": "12f36db3-f4b4-4e37-a496-cf1f12c10893"
      },
      "outputs": [
        {
          "output_type": "stream",
          "name": "stdout",
          "text": [
            "+-------+-----------+---------+\n",
            "|country|shipment_id|weight_kg|\n",
            "+-------+-----------+---------+\n",
            "|    USA|      S1001|      120|\n",
            "|    USA|      S1002|       85|\n",
            "|     UK|      S2001|       45|\n",
            "|     DE|      S3001|      210|\n",
            "+-------+-----------+---------+\n",
            "\n"
          ]
        }
      ],
      "source": [
        "# Sample Data\n",
        "shipments_data = [\n",
        "    (\"USA\", \"S1001\", 120),\n",
        "    (\"USA\", \"S1002\", 85),\n",
        "    (\"UK\", \"S2001\", 45),\n",
        "    (\"DE\", \"S3001\", 210)\n",
        "]\n",
        "shipments = spark.createDataFrame(shipments_data, [\"country\", \"shipment_id\", \"weight_kg\"])\n",
        "shipments.show()"
      ]
    },
    {
      "cell_type": "code",
      "source": [
        "total_weight = shipments.groupBy(\"country\").agg(sum(\"weight_kg\").alias(\"total_weight\"))\n",
        "total_weight.show()"
      ],
      "metadata": {
        "colab": {
          "base_uri": "https://localhost:8080/",
          "height": 0
        },
        "id": "WkbKoqcexNLM",
        "outputId": "24c663aa-fd2d-4c4f-a226-00992e220346"
      },
      "id": "WkbKoqcexNLM",
      "execution_count": 17,
      "outputs": [
        {
          "output_type": "stream",
          "name": "stdout",
          "text": [
            "+-------+------------+\n",
            "|country|total_weight|\n",
            "+-------+------------+\n",
            "|    USA|         205|\n",
            "|     DE|         210|\n",
            "|     UK|          45|\n",
            "+-------+------------+\n",
            "\n"
          ]
        }
      ]
    },
    {
      "cell_type": "markdown",
      "id": "9cb131f3",
      "metadata": {
        "id": "9cb131f3"
      },
      "source": [
        "## 9. Customer Behavior: Age Group Segmentation"
      ]
    },
    {
      "cell_type": "code",
      "execution_count": 18,
      "id": "955b09e9",
      "metadata": {
        "colab": {
          "base_uri": "https://localhost:8080/",
          "height": 0
        },
        "id": "955b09e9",
        "outputId": "42d09470-bf4c-4a20-9485-9130e133b46d"
      },
      "outputs": [
        {
          "output_type": "stream",
          "name": "stdout",
          "text": [
            "+-------+---+\n",
            "|user_id|age|\n",
            "+-------+---+\n",
            "|      1| 17|\n",
            "|      2| 25|\n",
            "|      3| 32|\n",
            "|      4| 16|\n",
            "|      5| 45|\n",
            "|      6| 67|\n",
            "|      7| 28|\n",
            "|      8| 14|\n",
            "+-------+---+\n",
            "\n"
          ]
        }
      ],
      "source": [
        "# Sample Data\n",
        "users_data = [\n",
        "    (1, 17), (2, 25), (3, 32), (4, 16),\n",
        "    (5, 45), (6, 67), (7, 28), (8, 14)\n",
        "]\n",
        "users = spark.createDataFrame(users_data, [\"user_id\", \"age\"])\n",
        "users.show()"
      ]
    },
    {
      "cell_type": "code",
      "source": [
        "segment_df = users.withColumn(\"age_group\",when(col('age')<12,\"Child\").when(col('age')<21,\"Teen\").otherwise(\"adult\"))\n",
        "segment_df.show()"
      ],
      "metadata": {
        "colab": {
          "base_uri": "https://localhost:8080/",
          "height": 0
        },
        "id": "snElqrLmx7iC",
        "outputId": "02e3b0d2-571c-4d56-9090-f20c4bba9102"
      },
      "id": "snElqrLmx7iC",
      "execution_count": 19,
      "outputs": [
        {
          "output_type": "stream",
          "name": "stdout",
          "text": [
            "+-------+---+---------+\n",
            "|user_id|age|age_group|\n",
            "+-------+---+---------+\n",
            "|      1| 17|     Teen|\n",
            "|      2| 25|    adult|\n",
            "|      3| 32|    adult|\n",
            "|      4| 16|     Teen|\n",
            "|      5| 45|    adult|\n",
            "|      6| 67|    adult|\n",
            "|      7| 28|    adult|\n",
            "|      8| 14|     Teen|\n",
            "+-------+---+---------+\n",
            "\n"
          ]
        }
      ]
    },
    {
      "cell_type": "markdown",
      "id": "e1d33aa0",
      "metadata": {
        "id": "e1d33aa0"
      },
      "source": [
        "## 10. Support Analysis: Tickets Resolved in 24h"
      ]
    },
    {
      "cell_type": "code",
      "execution_count": 20,
      "id": "443c22fb",
      "metadata": {
        "colab": {
          "base_uri": "https://localhost:8080/",
          "height": 0
        },
        "id": "443c22fb",
        "outputId": "cffc70be-0548-4570-ea51-a4c9461e282b"
      },
      "outputs": [
        {
          "output_type": "stream",
          "name": "stdout",
          "text": [
            "+---------+-------------------+-------------------+\n",
            "|ticket_id|       created_time|      resolved_time|\n",
            "+---------+-------------------+-------------------+\n",
            "|     T001|2023-10-01 09:00:00|2023-10-01 10:30:00|\n",
            "|     T002|2023-10-02 14:00:00|2023-10-03 15:00:00|\n",
            "|     T003|2023-10-03 11:00:00|2023-10-03 11:45:00|\n",
            "+---------+-------------------+-------------------+\n",
            "\n"
          ]
        }
      ],
      "source": [
        "# Sample Data\n",
        "tickets_data = [\n",
        "    (\"T001\", \"2023-10-01 09:00:00\", \"2023-10-01 10:30:00\"),\n",
        "    (\"T002\", \"2023-10-02 14:00:00\", \"2023-10-03 15:00:00\"),\n",
        "    (\"T003\", \"2023-10-03 11:00:00\", \"2023-10-03 11:45:00\")\n",
        "]\n",
        "tickets = spark.createDataFrame(tickets_data, [\"ticket_id\", \"created_time\", \"resolved_time\"]) \\\n",
        "    .withColumn(\"created_time\", to_timestamp(col(\"created_time\"))) \\\n",
        "    .withColumn(\"resolved_time\", to_timestamp(col(\"resolved_time\")))\n",
        "tickets.show()"
      ]
    },
    {
      "cell_type": "code",
      "source": [
        "tickets = tickets.withColumn(\"resolution_time\",datediff(col(\"resolved_time\"),col(\"created_time\"))).filter(col(\"resolution_time\")<=24)\n",
        "tickets.show()"
      ],
      "metadata": {
        "colab": {
          "base_uri": "https://localhost:8080/",
          "height": 0
        },
        "id": "wZceF7u-S2HP",
        "outputId": "a35d238f-4747-4a44-f5c5-04cbbde9a418"
      },
      "id": "wZceF7u-S2HP",
      "execution_count": 23,
      "outputs": [
        {
          "output_type": "stream",
          "name": "stdout",
          "text": [
            "+---------+-------------------+-------------------+---------------+\n",
            "|ticket_id|       created_time|      resolved_time|resolution_time|\n",
            "+---------+-------------------+-------------------+---------------+\n",
            "|     T001|2023-10-01 09:00:00|2023-10-01 10:30:00|              0|\n",
            "|     T003|2023-10-03 11:00:00|2023-10-03 11:45:00|              0|\n",
            "+---------+-------------------+-------------------+---------------+\n",
            "\n"
          ]
        }
      ]
    },
    {
      "cell_type": "markdown",
      "id": "ed784246",
      "metadata": {
        "id": "ed784246"
      },
      "source": [
        "## 11. Store Analytics: Average Basket Size"
      ]
    },
    {
      "cell_type": "code",
      "execution_count": 24,
      "id": "cdff823e",
      "metadata": {
        "colab": {
          "base_uri": "https://localhost:8080/",
          "height": 0
        },
        "id": "cdff823e",
        "outputId": "cdeb415b-9694-42a3-8f67-2e4deaa7a86d"
      },
      "outputs": [
        {
          "output_type": "stream",
          "name": "stdout",
          "text": [
            "+--------+------+-----+\n",
            "|store_id|txn_id|items|\n",
            "+--------+------+-----+\n",
            "|  StoreA| T1001|    5|\n",
            "|  StoreA| T1002|    8|\n",
            "|  StoreB| T2001|    3|\n",
            "|  StoreB| T2002|   12|\n",
            "+--------+------+-----+\n",
            "\n"
          ]
        }
      ],
      "source": [
        "# Sample Data\n",
        "transactions_data = [\n",
        "    (\"StoreA\", \"T1001\", 5),\n",
        "    (\"StoreA\", \"T1002\", 8),\n",
        "    (\"StoreB\", \"T2001\", 3),\n",
        "    (\"StoreB\", \"T2002\", 12)\n",
        "]\n",
        "transactions = spark.createDataFrame(transactions_data, [\"store_id\", \"txn_id\", \"items\"])\n",
        "transactions.show()\n"
      ]
    },
    {
      "cell_type": "code",
      "source": [
        "transactions.groupBy(\"store_id\").agg(avg(\"items\").alias(\"avg_basket_size\")).show()"
      ],
      "metadata": {
        "colab": {
          "base_uri": "https://localhost:8080/",
          "height": 0
        },
        "id": "WzwHbtLVUzQS",
        "outputId": "a22b0fe7-dbe3-4f43-ca20-b4e4bef42e81"
      },
      "id": "WzwHbtLVUzQS",
      "execution_count": 25,
      "outputs": [
        {
          "output_type": "stream",
          "name": "stdout",
          "text": [
            "+--------+---------------+\n",
            "|store_id|avg_basket_size|\n",
            "+--------+---------------+\n",
            "|  StoreA|            6.5|\n",
            "|  StoreB|            7.5|\n",
            "+--------+---------------+\n",
            "\n"
          ]
        }
      ]
    },
    {
      "cell_type": "markdown",
      "id": "7a454138",
      "metadata": {
        "id": "7a454138"
      },
      "source": [
        "## 12. Healthcare: Patients with Missing Insurance"
      ]
    },
    {
      "cell_type": "code",
      "execution_count": 26,
      "id": "fa824119",
      "metadata": {
        "colab": {
          "base_uri": "https://localhost:8080/",
          "height": 0
        },
        "id": "fa824119",
        "outputId": "1b124801-6372-4cfd-f891-4d54f19cfb7d"
      },
      "outputs": [
        {
          "output_type": "stream",
          "name": "stdout",
          "text": [
            "+----------+----------+-------------+\n",
            "|patient_id|      name|    insurance|\n",
            "+----------+----------+-------------+\n",
            "|      P001|  John Doe|ABC Insurance|\n",
            "|      P002|Jane Smith|         NULL|\n",
            "|      P003|   Bob Lee|XYZ Insurance|\n",
            "|      P004| Alice Kim|         NULL|\n",
            "+----------+----------+-------------+\n",
            "\n"
          ]
        }
      ],
      "source": [
        "# Sample Data\n",
        "patients_data = [\n",
        "    (\"P001\", \"John Doe\", \"ABC Insurance\"),\n",
        "    (\"P002\", \"Jane Smith\", None),\n",
        "    (\"P003\", \"Bob Lee\", \"XYZ Insurance\"),\n",
        "    (\"P004\", \"Alice Kim\", None)\n",
        "]\n",
        "patients = spark.createDataFrame(patients_data, [\"patient_id\", \"name\", \"insurance\"])\n",
        "patients.show()\n"
      ]
    },
    {
      "cell_type": "code",
      "source": [
        "patients.filter(col(\"insurance\").isNull()).select(\"patient_id\",\"name\").show()"
      ],
      "metadata": {
        "colab": {
          "base_uri": "https://localhost:8080/",
          "height": 0
        },
        "id": "3t-Mo8BgVbmX",
        "outputId": "e5d0316f-f14a-4b50-f3c3-f90a88b91962"
      },
      "id": "3t-Mo8BgVbmX",
      "execution_count": 27,
      "outputs": [
        {
          "output_type": "stream",
          "name": "stdout",
          "text": [
            "+----------+----------+\n",
            "|patient_id|      name|\n",
            "+----------+----------+\n",
            "|      P002|Jane Smith|\n",
            "|      P004| Alice Kim|\n",
            "+----------+----------+\n",
            "\n"
          ]
        }
      ]
    },
    {
      "cell_type": "markdown",
      "id": "c68fe832",
      "metadata": {
        "id": "c68fe832"
      },
      "source": [
        "## 13. Education: Average Score by Subject"
      ]
    },
    {
      "cell_type": "code",
      "execution_count": 28,
      "id": "cf4ab411",
      "metadata": {
        "colab": {
          "base_uri": "https://localhost:8080/",
          "height": 0
        },
        "id": "cf4ab411",
        "outputId": "9c6b3312-7f40-4b6b-cec3-7daf23ef175c"
      },
      "outputs": [
        {
          "output_type": "stream",
          "name": "stdout",
          "text": [
            "+-------+-------+---------+\n",
            "|subject| school|avg_score|\n",
            "+-------+-------+---------+\n",
            "|   Math|SchoolA|       85|\n",
            "|   Math|SchoolB|       78|\n",
            "|Science|SchoolA|       92|\n",
            "|Science|SchoolB|       88|\n",
            "+-------+-------+---------+\n",
            "\n"
          ]
        }
      ],
      "source": [
        "# Sample Data\n",
        "scores_data = [\n",
        "    (\"Math\", \"SchoolA\", 85),\n",
        "    (\"Math\", \"SchoolB\", 78),\n",
        "    (\"Science\", \"SchoolA\", 92),\n",
        "    (\"Science\", \"SchoolB\", 88)\n",
        "]\n",
        "scores = spark.createDataFrame(scores_data, [\"subject\", \"school\", \"avg_score\"])\n",
        "scores.show()\n"
      ]
    },
    {
      "cell_type": "code",
      "source": [
        "scores.groupBy('subject').agg(avg(\"avg_score\").alias(\"avg_score\")).show()"
      ],
      "metadata": {
        "colab": {
          "base_uri": "https://localhost:8080/",
          "height": 0
        },
        "id": "UVCiNZ6mVz2C",
        "outputId": "41b07d6c-9bd1-4e10-dc63-dc0af176596a"
      },
      "id": "UVCiNZ6mVz2C",
      "execution_count": 29,
      "outputs": [
        {
          "output_type": "stream",
          "name": "stdout",
          "text": [
            "+-------+---------+\n",
            "|subject|avg_score|\n",
            "+-------+---------+\n",
            "|   Math|     81.5|\n",
            "|Science|     90.0|\n",
            "+-------+---------+\n",
            "\n"
          ]
        }
      ]
    },
    {
      "cell_type": "markdown",
      "id": "de808e99",
      "metadata": {
        "id": "de808e99"
      },
      "source": [
        "## 14. Employee Management: Small Departments"
      ]
    },
    {
      "cell_type": "code",
      "execution_count": 30,
      "id": "fdf03f0a",
      "metadata": {
        "colab": {
          "base_uri": "https://localhost:8080/",
          "height": 0
        },
        "id": "fdf03f0a",
        "outputId": "6e13f643-6cca-48a0-f682-ff658523f99e"
      },
      "outputs": [
        {
          "output_type": "stream",
          "name": "stdout",
          "text": [
            "+-------+-----------+\n",
            "|   dept|employee_id|\n",
            "+-------+-----------+\n",
            "|     IT|       E001|\n",
            "|     IT|       E002|\n",
            "|     HR|       E003|\n",
            "|Finance|       E004|\n",
            "|Finance|       E005|\n",
            "|Finance|       E006|\n",
            "+-------+-----------+\n",
            "\n"
          ]
        }
      ],
      "source": [
        "# Sample Data\n",
        "employees_data = [\n",
        "    (\"IT\", \"E001\"), (\"IT\", \"E002\"), (\"HR\", \"E003\"),\n",
        "    (\"Finance\", \"E004\"), (\"Finance\", \"E005\"), (\"Finance\", \"E006\")\n",
        "]\n",
        "employees = spark.createDataFrame(employees_data, [\"dept\", \"employee_id\"])\n",
        "employees.show()"
      ]
    },
    {
      "cell_type": "code",
      "source": [
        "employees.groupBy('dept').agg(count(\"employee_id\").alias('total_employees')).filter(col(\"total_employees\")<3).show()"
      ],
      "metadata": {
        "colab": {
          "base_uri": "https://localhost:8080/",
          "height": 0
        },
        "id": "9H3hsRwBWVLO",
        "outputId": "f05fcb5d-b93b-4dff-fd21-5151b9a1754a"
      },
      "id": "9H3hsRwBWVLO",
      "execution_count": 31,
      "outputs": [
        {
          "output_type": "stream",
          "name": "stdout",
          "text": [
            "+----+---------------+\n",
            "|dept|total_employees|\n",
            "+----+---------------+\n",
            "|  HR|              1|\n",
            "|  IT|              2|\n",
            "+----+---------------+\n",
            "\n"
          ]
        }
      ]
    },
    {
      "cell_type": "markdown",
      "id": "af9f8417",
      "metadata": {
        "id": "af9f8417"
      },
      "source": [
        "## 15. Subscription Services: Expiring Subscriptions"
      ]
    },
    {
      "cell_type": "code",
      "execution_count": 32,
      "id": "f6bf7ed6",
      "metadata": {
        "colab": {
          "base_uri": "https://localhost:8080/",
          "height": 0
        },
        "id": "f6bf7ed6",
        "outputId": "f998d86b-5c81-4274-f403-2dc8bd21ea07"
      },
      "outputs": [
        {
          "output_type": "stream",
          "name": "stdout",
          "text": [
            "+-------+-----------+\n",
            "|user_id|expiry_date|\n",
            "+-------+-----------+\n",
            "|   U001| 2023-10-20|\n",
            "|   U002| 2024-11-15|\n",
            "|   U003| 2025-10-30|\n",
            "|   U004| 2025-11-05|\n",
            "+-------+-----------+\n",
            "\n"
          ]
        }
      ],
      "source": [
        "from datetime import date\n",
        "\n",
        "# Sample Data\n",
        "subscriptions_data = [\n",
        "    (\"U001\", date(2023, 10, 20)),\n",
        "    (\"U002\", date(2024, 11, 15)),\n",
        "    (\"U003\", date(2025, 10, 30)),\n",
        "    (\"U004\", date(2025, 11, 5))\n",
        "]\n",
        "subscriptions = spark.createDataFrame(subscriptions_data, [\"user_id\", \"expiry_date\"])\n",
        "subscriptions.show()"
      ]
    },
    {
      "cell_type": "code",
      "source": [
        "subscriptions.filter(col(\"expiry_date\")<=date.today()).show()"
      ],
      "metadata": {
        "colab": {
          "base_uri": "https://localhost:8080/",
          "height": 0
        },
        "id": "gCRWizBKW8-b",
        "outputId": "1f700a77-6a7c-4633-a438-f64db4acefd8"
      },
      "id": "gCRWizBKW8-b",
      "execution_count": 33,
      "outputs": [
        {
          "output_type": "stream",
          "name": "stdout",
          "text": [
            "+-------+-----------+\n",
            "|user_id|expiry_date|\n",
            "+-------+-----------+\n",
            "|   U001| 2023-10-20|\n",
            "|   U002| 2024-11-15|\n",
            "+-------+-----------+\n",
            "\n"
          ]
        }
      ]
    },
    {
      "cell_type": "markdown",
      "id": "dc02032f",
      "metadata": {
        "id": "dc02032f"
      },
      "source": [
        "## 16. Sales Forecasting: 7-Day Moving Average"
      ]
    },
    {
      "cell_type": "code",
      "execution_count": 34,
      "id": "020fc423",
      "metadata": {
        "colab": {
          "base_uri": "https://localhost:8080/",
          "height": 0
        },
        "id": "020fc423",
        "outputId": "956fecd3-a2fd-4ebf-eb86-49e2a5836f18"
      },
      "outputs": [
        {
          "output_type": "stream",
          "name": "stdout",
          "text": [
            "+----------+-----+\n",
            "|      date|sales|\n",
            "+----------+-----+\n",
            "|2023-10-01|  120|\n",
            "|2023-10-02|  150|\n",
            "|2023-10-03|  180|\n",
            "|2023-10-04|   90|\n",
            "|2023-10-05|  200|\n",
            "|2023-10-06|  170|\n",
            "|2023-10-07|  210|\n",
            "|2023-10-08|  190|\n",
            "+----------+-----+\n",
            "\n"
          ]
        }
      ],
      "source": [
        "# Sample Data\n",
        "daily_sales_data = [\n",
        "    (\"2023-10-01\", 120), (\"2023-10-02\", 150), (\"2023-10-03\", 180),\n",
        "    (\"2023-10-04\", 90), (\"2023-10-05\", 200), (\"2023-10-06\", 170),\n",
        "    (\"2023-10-07\", 210), (\"2023-10-08\", 190)\n",
        "]\n",
        "daily_sales = spark.createDataFrame(daily_sales_data, [\"date\", \"sales\"])\n",
        "daily_sales.show()"
      ]
    },
    {
      "cell_type": "code",
      "source": [
        "window_spec = Window.orderBy(\"date\").rowsBetween(-6, 0)\n",
        "moving_avg = daily_sales.withColumn(\"7d_moving_Avg\", round(avg(\"sales\").over(window_spec), 2))\n",
        "moving_avg.show()"
      ],
      "metadata": {
        "colab": {
          "base_uri": "https://localhost:8080/",
          "height": 0
        },
        "id": "Xx9zb7MyXnbG",
        "outputId": "ff88bec5-1063-41ff-e5da-76165537d740"
      },
      "id": "Xx9zb7MyXnbG",
      "execution_count": 35,
      "outputs": [
        {
          "output_type": "stream",
          "name": "stdout",
          "text": [
            "+----------+-----+-------------+\n",
            "|      date|sales|7d_moving_Avg|\n",
            "+----------+-----+-------------+\n",
            "|2023-10-01|  120|        120.0|\n",
            "|2023-10-02|  150|        135.0|\n",
            "|2023-10-03|  180|        150.0|\n",
            "|2023-10-04|   90|        135.0|\n",
            "|2023-10-05|  200|        148.0|\n",
            "|2023-10-06|  170|       151.67|\n",
            "|2023-10-07|  210|        160.0|\n",
            "|2023-10-08|  190|        170.0|\n",
            "+----------+-----+-------------+\n",
            "\n"
          ]
        }
      ]
    },
    {
      "cell_type": "markdown",
      "id": "6a634d3b",
      "metadata": {
        "id": "6a634d3b"
      },
      "source": [
        "## 17. Web Analytics: Top Pages per Session"
      ]
    },
    {
      "cell_type": "code",
      "execution_count": 36,
      "id": "037e9ef8",
      "metadata": {
        "colab": {
          "base_uri": "https://localhost:8080/",
          "height": 0
        },
        "id": "037e9ef8",
        "outputId": "9cb0d3a0-5dd6-4b2f-9b6e-cca8dbcbeac5"
      },
      "outputs": [
        {
          "output_type": "stream",
          "name": "stdout",
          "text": [
            "+----------+---------+------------+\n",
            "|session_id|     page|duration_sec|\n",
            "+----------+---------+------------+\n",
            "|  session1|    /home|          10|\n",
            "|  session1|/products|          25|\n",
            "|  session1|    /cart|          30|\n",
            "|  session2|    /home|           5|\n",
            "|  session2|   /about|          45|\n",
            "|  session3|    /home|           8|\n",
            "+----------+---------+------------+\n",
            "\n"
          ]
        }
      ],
      "source": [
        "# Sample Data\n",
        "web_logs_data = [\n",
        "    (\"session1\", \"/home\", 10), (\"session1\", \"/products\", 25),\n",
        "    (\"session1\", \"/cart\", 30), (\"session2\", \"/home\", 5),\n",
        "    (\"session2\", \"/about\", 45), (\"session3\", \"/home\", 8)\n",
        "]\n",
        "web_logs = spark.createDataFrame(web_logs_data, [\"session_id\", \"page\", \"duration_sec\"])\n",
        "web_logs.show()"
      ]
    },
    {
      "cell_type": "code",
      "source": [
        "window_spec = Window.partitionBy(\"session_id\").orderBy(desc(\"duration_sec\"))\n",
        "top_pages = web_logs.withColumn(\"rank\", rank().over(window_spec)).filter(col(\"rank\")==1)\n",
        "top_pages.show()"
      ],
      "metadata": {
        "colab": {
          "base_uri": "https://localhost:8080/",
          "height": 0
        },
        "id": "xZSNm7gDYfs-",
        "outputId": "05523655-8ccb-4a83-80d6-7d546f47f47e"
      },
      "id": "xZSNm7gDYfs-",
      "execution_count": 37,
      "outputs": [
        {
          "output_type": "stream",
          "name": "stdout",
          "text": [
            "+----------+------+------------+----+\n",
            "|session_id|  page|duration_sec|rank|\n",
            "+----------+------+------------+----+\n",
            "|  session1| /cart|          30|   1|\n",
            "|  session2|/about|          45|   1|\n",
            "|  session3| /home|           8|   1|\n",
            "+----------+------+------------+----+\n",
            "\n"
          ]
        }
      ]
    },
    {
      "cell_type": "markdown",
      "id": "6ca8f357",
      "metadata": {
        "id": "6ca8f357"
      },
      "source": [
        "## 18. Streaming Platform: Total Watch Time"
      ]
    },
    {
      "cell_type": "code",
      "execution_count": 38,
      "id": "8eedb3bd",
      "metadata": {
        "colab": {
          "base_uri": "https://localhost:8080/",
          "height": 0
        },
        "id": "8eedb3bd",
        "outputId": "090922d1-765f-495b-8551-3fd4dd559e76"
      },
      "outputs": [
        {
          "output_type": "stream",
          "name": "stdout",
          "text": [
            "+-------+------------+\n",
            "|user_id|duration_min|\n",
            "+-------+------------+\n",
            "|  user1|          45|\n",
            "|  user1|          30|\n",
            "|  user2|         120|\n",
            "|  user3|          90|\n",
            "|  user3|          60|\n",
            "|  user3|          45|\n",
            "+-------+------------+\n",
            "\n"
          ]
        }
      ],
      "source": [
        "# Sample Data\n",
        "watch_data = [\n",
        "    (\"user1\", 45), (\"user1\", 30), (\"user2\", 120),\n",
        "    (\"user3\", 90), (\"user3\", 60), (\"user3\", 45)\n",
        "]\n",
        "watch_logs = spark.createDataFrame(watch_data, [\"user_id\", \"duration_min\"])\n",
        "watch_logs.show()"
      ]
    },
    {
      "cell_type": "code",
      "source": [
        "watch_logs.groupBy(\"user_id\").agg(sum(\"duration_min\").alias(\"total_watch_time_in_min\")).show()"
      ],
      "metadata": {
        "colab": {
          "base_uri": "https://localhost:8080/",
          "height": 0
        },
        "id": "-fcpp6UyaLI7",
        "outputId": "1d025535-dc8e-4657-df93-604bc0989b4c"
      },
      "id": "-fcpp6UyaLI7",
      "execution_count": 39,
      "outputs": [
        {
          "output_type": "stream",
          "name": "stdout",
          "text": [
            "+-------+-----------------------+\n",
            "|user_id|total_watch_time_in_min|\n",
            "+-------+-----------------------+\n",
            "|  user1|                     75|\n",
            "|  user2|                    120|\n",
            "|  user3|                    195|\n",
            "+-------+-----------------------+\n",
            "\n"
          ]
        }
      ]
    },
    {
      "cell_type": "markdown",
      "id": "2af0e7a0",
      "metadata": {
        "id": "2af0e7a0"
      },
      "source": [
        "## 19. B2B SaaS: Churned Customers"
      ]
    },
    {
      "cell_type": "code",
      "execution_count": 40,
      "id": "6097a897",
      "metadata": {
        "colab": {
          "base_uri": "https://localhost:8080/",
          "height": 0
        },
        "id": "6097a897",
        "outputId": "79a40569-b740-4d46-cc80-cceacf8d3509"
      },
      "outputs": [
        {
          "output_type": "stream",
          "name": "stdout",
          "text": [
            "+-----------+----------+\n",
            "|customer_id|last_login|\n",
            "+-----------+----------+\n",
            "|       C001|2025-04-01|\n",
            "|       C002|2025-05-15|\n",
            "|       C003|2025-06-05|\n",
            "|       C004|2025-07-20|\n",
            "+-----------+----------+\n",
            "\n"
          ]
        }
      ],
      "source": [
        "# Sample Data\n",
        "customers_data = [\n",
        "    (\"C001\", date(2025, 4, 1)),\n",
        "    (\"C002\", date(2025, 5, 15)),\n",
        "    (\"C003\", date(2025, 6, 5)),\n",
        "    (\"C004\", date(2025, 7, 20))\n",
        "]\n",
        "customers = spark.createDataFrame(customers_data, [\"customer_id\", \"last_login\"])\n",
        "customers.show()"
      ]
    },
    {
      "cell_type": "code",
      "source": [
        "customers.filter(datediff(current_date(),col(\"last_login\"))>=90).show()"
      ],
      "metadata": {
        "colab": {
          "base_uri": "https://localhost:8080/",
          "height": 0
        },
        "id": "oMKQna0MbmBV",
        "outputId": "3034fe11-e8b4-4f63-a94f-d89ae2e25ad6"
      },
      "id": "oMKQna0MbmBV",
      "execution_count": 41,
      "outputs": [
        {
          "output_type": "stream",
          "name": "stdout",
          "text": [
            "+-----------+----------+\n",
            "|customer_id|last_login|\n",
            "+-----------+----------+\n",
            "|       C001|2025-04-01|\n",
            "+-----------+----------+\n",
            "\n"
          ]
        }
      ]
    },
    {
      "cell_type": "markdown",
      "id": "5df86d11",
      "metadata": {
        "id": "5df86d11"
      },
      "source": [
        "## 20. Job Portal: Location-Based Matching"
      ]
    },
    {
      "cell_type": "code",
      "execution_count": 42,
      "id": "8b4a258e",
      "metadata": {
        "colab": {
          "base_uri": "https://localhost:8080/",
          "height": 0
        },
        "id": "8b4a258e",
        "outputId": "3d25f5ef-2c74-4a07-ff9f-d0fb603e59c7"
      },
      "outputs": [
        {
          "output_type": "stream",
          "name": "stdout",
          "text": [
            "+---------+--------+\n",
            "|seeker_id|location|\n",
            "+---------+--------+\n",
            "|      JS1|      NY|\n",
            "|      JS2|      CA|\n",
            "|      JS3|      TX|\n",
            "+---------+--------+\n",
            "\n"
          ]
        }
      ],
      "source": [
        "# Sample Data\n",
        "job_seekers_data = [(\"JS1\", \"NY\"), (\"JS2\", \"CA\"), (\"JS3\", \"TX\")]\n",
        "job_postings_data = [(\"JP1\", \"NY\"), (\"JP2\", \"CA\"), (\"JP3\", \"FL\")]\n",
        "\n",
        "job_seekers = spark.createDataFrame(job_seekers_data, [\"seeker_id\", \"location\"])\n",
        "job_postings = spark.createDataFrame(job_postings_data, [\"job_id\", \"location\"])\n",
        "\n",
        "job_seekers.show()"
      ]
    },
    {
      "cell_type": "code",
      "source": [
        "job_postings.show()"
      ],
      "metadata": {
        "colab": {
          "base_uri": "https://localhost:8080/",
          "height": 0
        },
        "id": "U7oJxoE5b5Iv",
        "outputId": "dab7519e-6d9f-4f3b-8384-791d7af5c171"
      },
      "id": "U7oJxoE5b5Iv",
      "execution_count": 43,
      "outputs": [
        {
          "output_type": "stream",
          "name": "stdout",
          "text": [
            "+------+--------+\n",
            "|job_id|location|\n",
            "+------+--------+\n",
            "|   JP1|      NY|\n",
            "|   JP2|      CA|\n",
            "|   JP3|      FL|\n",
            "+------+--------+\n",
            "\n"
          ]
        }
      ]
    },
    {
      "cell_type": "code",
      "source": [
        "job_postings.join(job_seekers,on='location',how='inner').show()"
      ],
      "metadata": {
        "colab": {
          "base_uri": "https://localhost:8080/",
          "height": 0
        },
        "id": "jWBVhjzEbzTT",
        "outputId": "a19dd6cc-19e5-4485-a511-01ad977344ad"
      },
      "id": "jWBVhjzEbzTT",
      "execution_count": 44,
      "outputs": [
        {
          "output_type": "stream",
          "name": "stdout",
          "text": [
            "+--------+------+---------+\n",
            "|location|job_id|seeker_id|\n",
            "+--------+------+---------+\n",
            "|      CA|   JP2|      JS2|\n",
            "|      NY|   JP1|      JS1|\n",
            "+--------+------+---------+\n",
            "\n"
          ]
        }
      ]
    },
    {
      "cell_type": "markdown",
      "id": "8d8f05d2",
      "metadata": {
        "id": "8d8f05d2"
      },
      "source": [
        "## 21. Manufacturing: Machine Failure Detection"
      ]
    },
    {
      "cell_type": "code",
      "execution_count": 45,
      "id": "c190b952",
      "metadata": {
        "colab": {
          "base_uri": "https://localhost:8080/",
          "height": 0
        },
        "id": "c190b952",
        "outputId": "a8bb4d51-78b6-4a0a-9f98-8bbcdc97542b"
      },
      "outputs": [
        {
          "output_type": "stream",
          "name": "stdout",
          "text": [
            "+----------+-------------------+-------+\n",
            "|machine_id|          timestamp| status|\n",
            "+----------+-------------------+-------+\n",
            "|      M001|2025-06-22 08:00:00|failure|\n",
            "|      M001|2025-06-22 12:00:00|failure|\n",
            "|      M001|2025-06-21 09:00:00|failure|\n",
            "|      M002|2025-06-22 10:00:00|failure|\n",
            "+----------+-------------------+-------+\n",
            "\n"
          ]
        }
      ],
      "source": [
        "# Sample Data\n",
        "machine_logs_data = [\n",
        "    (\"M001\", \"2025-06-22 08:00:00\", \"failure\"),\n",
        "    (\"M001\", \"2025-06-22 12:00:00\", \"failure\"),\n",
        "    (\"M001\", \"2025-06-21 09:00:00\", \"failure\"),\n",
        "    (\"M002\", \"2025-06-22 10:00:00\", \"failure\")\n",
        "]\n",
        "machine_logs = spark.createDataFrame(machine_logs_data, [\"machine_id\", \"timestamp\", \"status\"])\n",
        "machine_logs.show()\n"
      ]
    },
    {
      "cell_type": "code",
      "source": [
        "# Solution\n",
        "window_spec = Window.partitionBy(\"machine_id\").orderBy(\"timestamp\")\n",
        "failure_counts = machine_logs.withColumn(\"prev_failure\", lag(\"timestamp\").over(window_spec)) \\\n",
        "    .withColumn(\"time_diff\",\n",
        "        (col(\"timestamp\").cast(\"long\") - col(\"prev_failure\").cast(\"long\")) / 3600) \\\n",
        "    .filter(col(\"time_diff\") <= 24) \\\n",
        "    .groupBy(\"machine_id\") \\\n",
        "    .agg(count(\"*\").alias(\"failure_count\")) \\\n",
        "    .filter(col(\"failure_count\") >= 2)\n",
        "failure_counts.show()"
      ],
      "metadata": {
        "colab": {
          "base_uri": "https://localhost:8080/",
          "height": 0
        },
        "id": "LQzN7UOMcPLq",
        "outputId": "562be5b6-e5b9-4fcb-b243-aef44f21f4f3"
      },
      "id": "LQzN7UOMcPLq",
      "execution_count": 46,
      "outputs": [
        {
          "output_type": "stream",
          "name": "stdout",
          "text": [
            "+----------+-------------+\n",
            "|machine_id|failure_count|\n",
            "+----------+-------------+\n",
            "+----------+-------------+\n",
            "\n"
          ]
        }
      ]
    },
    {
      "cell_type": "markdown",
      "id": "1b45882d",
      "metadata": {
        "id": "1b45882d"
      },
      "source": [
        "## 22. Insurance: Claim-to-Premium Ratio"
      ]
    },
    {
      "cell_type": "code",
      "execution_count": 47,
      "id": "f86368e7",
      "metadata": {
        "colab": {
          "base_uri": "https://localhost:8080/",
          "height": 0
        },
        "id": "f86368e7",
        "outputId": "4ea01836-5af9-4466-f1ea-4b8974067569"
      },
      "outputs": [
        {
          "output_type": "stream",
          "name": "stdout",
          "text": [
            "+-----------+------------+-------+\n",
            "|policy_type|claim_amount|premium|\n",
            "+-----------+------------+-------+\n",
            "|     Health|        1000|   5000|\n",
            "|     Health|        1500|   5000|\n",
            "|       Auto|        2000|   3000|\n",
            "|       Life|        3000|  10000|\n",
            "+-----------+------------+-------+\n",
            "\n"
          ]
        }
      ],
      "source": [
        "# Sample Data\n",
        "insurance_data = [\n",
        "    (\"Health\", 1000, 5000), (\"Health\", 1500, 5000),\n",
        "    (\"Auto\", 2000, 3000), (\"Life\", 3000, 10000)\n",
        "]\n",
        "insurance = spark.createDataFrame(insurance_data, [\"policy_type\", \"claim_amount\", \"premium\"])\n",
        "insurance.show()"
      ]
    },
    {
      "cell_type": "code",
      "source": [
        "insurance.withColumn(\"claim-to-premium_ration\",round(col(\"claim_amount\")/col(\"premium\"),2)).show()"
      ],
      "metadata": {
        "colab": {
          "base_uri": "https://localhost:8080/",
          "height": 0
        },
        "id": "tiImYzgedwOc",
        "outputId": "9e861be9-63de-4d2d-dc23-0129cf0fd483"
      },
      "id": "tiImYzgedwOc",
      "execution_count": 48,
      "outputs": [
        {
          "output_type": "stream",
          "name": "stdout",
          "text": [
            "+-----------+------------+-------+-----------------------+\n",
            "|policy_type|claim_amount|premium|claim-to-premium_ration|\n",
            "+-----------+------------+-------+-----------------------+\n",
            "|     Health|        1000|   5000|                    0.2|\n",
            "|     Health|        1500|   5000|                    0.3|\n",
            "|       Auto|        2000|   3000|                   0.67|\n",
            "|       Life|        3000|  10000|                    0.3|\n",
            "+-----------+------------+-------+-----------------------+\n",
            "\n"
          ]
        }
      ]
    },
    {
      "cell_type": "code",
      "source": [
        "# according to policy type\n",
        "insurance.groupBy(\"policy_type\").agg(round(sum(\"claim_amount\")/sum(\"premium\"),2).alias(\"claim_to_premium_ratio\")).show()"
      ],
      "metadata": {
        "colab": {
          "base_uri": "https://localhost:8080/",
          "height": 0
        },
        "id": "k_237N2_eRCB",
        "outputId": "2f3fab3e-e9f6-42d5-bcc2-cfca05f7306a"
      },
      "id": "k_237N2_eRCB",
      "execution_count": 49,
      "outputs": [
        {
          "output_type": "stream",
          "name": "stdout",
          "text": [
            "+-----------+----------------------+\n",
            "|policy_type|claim_to_premium_ratio|\n",
            "+-----------+----------------------+\n",
            "|     Health|                  0.25|\n",
            "|       Life|                   0.3|\n",
            "|       Auto|                  0.67|\n",
            "+-----------+----------------------+\n",
            "\n"
          ]
        }
      ]
    },
    {
      "cell_type": "markdown",
      "id": "6b6309fb",
      "metadata": {
        "id": "6b6309fb"
      },
      "source": [
        "## 23. Content Platform: Binge Watchers"
      ]
    },
    {
      "cell_type": "code",
      "execution_count": 51,
      "id": "89f9225d",
      "metadata": {
        "id": "89f9225d"
      },
      "outputs": [],
      "source": [
        "# Sample Data\n",
        "watch_data = [\n",
        "    (\"user1\", \"showA\", 1, \"2023-10-01 20:00:00\"),\n",
        "    (\"user1\", \"showA\", 2, \"2023-10-01 20:30:00\"),\n",
        "    (\"user1\", \"showA\", 3, \"2023-10-01 21:00:00\"),\n",
        "    (\"user2\", \"showB\", 1, \"2023-10-01 19:00:00\"),\n",
        "    (\"user2\", \"showB\", 2, \"2023-10-02 19:30:00\")\n",
        "]\n",
        "watch_logs = spark.createDataFrame(watch_data, [\"user_id\", \"show_id\", \"episode\", \"timestamp\"])"
      ]
    },
    {
      "cell_type": "code",
      "source": [
        "watch_logs.show()"
      ],
      "metadata": {
        "colab": {
          "base_uri": "https://localhost:8080/",
          "height": 0
        },
        "id": "06APc3iSfQYY",
        "outputId": "6b604981-9107-4eed-8d0e-187790956102"
      },
      "id": "06APc3iSfQYY",
      "execution_count": 52,
      "outputs": [
        {
          "output_type": "stream",
          "name": "stdout",
          "text": [
            "+-------+-------+-------+-------------------+\n",
            "|user_id|show_id|episode|          timestamp|\n",
            "+-------+-------+-------+-------------------+\n",
            "|  user1|  showA|      1|2023-10-01 20:00:00|\n",
            "|  user1|  showA|      2|2023-10-01 20:30:00|\n",
            "|  user1|  showA|      3|2023-10-01 21:00:00|\n",
            "|  user2|  showB|      1|2023-10-01 19:00:00|\n",
            "|  user2|  showB|      2|2023-10-02 19:30:00|\n",
            "+-------+-------+-------+-------------------+\n",
            "\n"
          ]
        }
      ]
    },
    {
      "cell_type": "code",
      "source": [
        "window_spec = Window.partitionBy(\"user_id\", \"show_id\").orderBy(\"timestamp\")\n",
        "binge = watch_logs.withColumn(\"prev_episode_time\", lag(\"timestamp\").over(window_spec))\n",
        "binge = binge.withColumn(\"time_diff_hours\", (col(\"timestamp\").cast(\"timestamp\").cast(\"long\") - col(\"prev_episode_time\").cast(\"timestamp\").cast(\"long\")) / 3600)\n",
        "binge.show()"
      ],
      "metadata": {
        "colab": {
          "base_uri": "https://localhost:8080/",
          "height": 0
        },
        "id": "wkLAVdcDfT9R",
        "outputId": "050a4491-d68e-456c-ade7-a5ed0ad59e63"
      },
      "id": "wkLAVdcDfT9R",
      "execution_count": 53,
      "outputs": [
        {
          "output_type": "stream",
          "name": "stdout",
          "text": [
            "+-------+-------+-------+-------------------+-------------------+---------------+\n",
            "|user_id|show_id|episode|          timestamp|  prev_episode_time|time_diff_hours|\n",
            "+-------+-------+-------+-------------------+-------------------+---------------+\n",
            "|  user1|  showA|      1|2023-10-01 20:00:00|               NULL|           NULL|\n",
            "|  user1|  showA|      2|2023-10-01 20:30:00|2023-10-01 20:00:00|            0.5|\n",
            "|  user1|  showA|      3|2023-10-01 21:00:00|2023-10-01 20:30:00|            0.5|\n",
            "|  user2|  showB|      1|2023-10-01 19:00:00|               NULL|           NULL|\n",
            "|  user2|  showB|      2|2023-10-02 19:30:00|2023-10-01 19:00:00|           24.5|\n",
            "+-------+-------+-------+-------------------+-------------------+---------------+\n",
            "\n"
          ]
        }
      ]
    },
    {
      "cell_type": "code",
      "source": [
        "binge.filter(col(\"time_diff_hours\")<=1).select(\"user_id\",\"show_id\").distinct().show()"
      ],
      "metadata": {
        "colab": {
          "base_uri": "https://localhost:8080/",
          "height": 0
        },
        "id": "Jbqb3VnDhjlW",
        "outputId": "c1b1ce81-781f-4017-9585-ef3e318a44e1"
      },
      "id": "Jbqb3VnDhjlW",
      "execution_count": 54,
      "outputs": [
        {
          "output_type": "stream",
          "name": "stdout",
          "text": [
            "+-------+-------+\n",
            "|user_id|show_id|\n",
            "+-------+-------+\n",
            "|  user1|  showA|\n",
            "+-------+-------+\n",
            "\n"
          ]
        }
      ]
    },
    {
      "cell_type": "markdown",
      "id": "a4e6638b",
      "metadata": {
        "id": "a4e6638b"
      },
      "source": [
        "## 24. Healthcare: Inconsistent Records"
      ]
    },
    {
      "cell_type": "code",
      "execution_count": 55,
      "id": "6693501c",
      "metadata": {
        "colab": {
          "base_uri": "https://localhost:8080/",
          "height": 0
        },
        "id": "6693501c",
        "outputId": "b8d6ee2c-ac6a-48c5-eaa0-81c1411169a7"
      },
      "outputs": [
        {
          "output_type": "stream",
          "name": "stdout",
          "text": [
            "+----------+-------------------+-------------------+\n",
            "|patient_id|         admit_time|     discharge_time|\n",
            "+----------+-------------------+-------------------+\n",
            "|      P001|2023-10-01 10:00:00|2023-10-01 15:00:00|\n",
            "|      P002|2023-10-02 09:00:00|2023-10-01 14:00:00|\n",
            "|      P003|2023-10-03 11:00:00|2023-10-03 16:00:00|\n",
            "+----------+-------------------+-------------------+\n",
            "\n"
          ]
        }
      ],
      "source": [
        "# Sample Data\n",
        "visits_data = [\n",
        "    (\"P001\", \"2023-10-01 10:00:00\", \"2023-10-01 15:00:00\"),\n",
        "    (\"P002\", \"2023-10-02 09:00:00\", \"2023-10-01 14:00:00\"),  # Inconsistent\n",
        "    (\"P003\", \"2023-10-03 11:00:00\", \"2023-10-03 16:00:00\")\n",
        "]\n",
        "visits = spark.createDataFrame(visits_data, [\"patient_id\", \"admit_time\", \"discharge_time\"]) \\\n",
        "    .withColumn(\"admit_time\", to_timestamp(col(\"admit_time\"))) \\\n",
        "    .withColumn(\"discharge_time\", to_timestamp(col(\"discharge_time\")))\n",
        "\n",
        "visits.show()"
      ]
    },
    {
      "cell_type": "code",
      "source": [
        "visits.filter(col(\"admit_time\") > col(\"discharge_time\")).show()"
      ],
      "metadata": {
        "colab": {
          "base_uri": "https://localhost:8080/",
          "height": 0
        },
        "id": "st1HzeZ6h-uA",
        "outputId": "4cbabbe6-428c-455a-9a90-9300c4480f40"
      },
      "id": "st1HzeZ6h-uA",
      "execution_count": 56,
      "outputs": [
        {
          "output_type": "stream",
          "name": "stdout",
          "text": [
            "+----------+-------------------+-------------------+\n",
            "|patient_id|         admit_time|     discharge_time|\n",
            "+----------+-------------------+-------------------+\n",
            "|      P002|2023-10-02 09:00:00|2023-10-01 14:00:00|\n",
            "+----------+-------------------+-------------------+\n",
            "\n"
          ]
        }
      ]
    },
    {
      "cell_type": "markdown",
      "id": "86f6e78e",
      "metadata": {
        "id": "86f6e78e"
      },
      "source": [
        "## 25. Retail: Weekly Repeat Customers"
      ]
    },
    {
      "cell_type": "code",
      "execution_count": 57,
      "id": "6f3fe941",
      "metadata": {
        "colab": {
          "base_uri": "https://localhost:8080/",
          "height": 0
        },
        "id": "6f3fe941",
        "outputId": "6ba7a901-f7e5-43a4-9123-fac721dda0b1"
      },
      "outputs": [
        {
          "output_type": "stream",
          "name": "stdout",
          "text": [
            "+-----------+-------------+\n",
            "|customer_id|purchase_date|\n",
            "+-----------+-------------+\n",
            "|       C001|   2023-10-01|\n",
            "|       C001|   2023-10-06|\n",
            "|       C002|   2023-10-02|\n",
            "|       C003|   2023-10-01|\n",
            "|       C003|   2023-10-06|\n",
            "|       C003|   2023-10-08|\n",
            "+-----------+-------------+\n",
            "\n"
          ]
        }
      ],
      "source": [
        "# Sample Data\n",
        "purchases_data = [\n",
        "    (\"C001\", \"2023-10-01\"), (\"C001\", \"2023-10-06\"),\n",
        "    (\"C002\", \"2023-10-02\"), (\"C003\", \"2023-10-01\"),\n",
        "    (\"C003\", \"2023-10-06\"), (\"C003\", \"2023-10-08\")\n",
        "]\n",
        "purchases = spark.createDataFrame(purchases_data, [\"customer_id\", \"purchase_date\"]) \\\n",
        "    .withColumn(\"purchase_date\", to_date(col(\"purchase_date\")))\n",
        "\n",
        "purchases.show()"
      ]
    },
    {
      "cell_type": "code",
      "source": [
        "purchases = purchases.withColumn(\"week\",weekofyear(col(\"purchase_date\")))\n",
        "purchases.groupBy(\"customer_id\",\"week\").agg(count(\"*\").alias(\"visits\")).filter(col(\"visits\")>1).show()"
      ],
      "metadata": {
        "colab": {
          "base_uri": "https://localhost:8080/",
          "height": 0
        },
        "id": "BpAMEHJlibSJ",
        "outputId": "7681ab66-cb08-403e-ad0d-0f1f9a5501a8"
      },
      "id": "BpAMEHJlibSJ",
      "execution_count": 58,
      "outputs": [
        {
          "output_type": "stream",
          "name": "stdout",
          "text": [
            "+-----------+----+------+\n",
            "|customer_id|week|visits|\n",
            "+-----------+----+------+\n",
            "|       C003|  40|     2|\n",
            "+-----------+----+------+\n",
            "\n"
          ]
        }
      ]
    },
    {
      "cell_type": "markdown",
      "id": "150d4e15",
      "metadata": {
        "id": "150d4e15"
      },
      "source": [
        "## 26. HR Analytics: Employee Tenure"
      ]
    },
    {
      "cell_type": "code",
      "execution_count": 59,
      "id": "80c26b37",
      "metadata": {
        "colab": {
          "base_uri": "https://localhost:8080/",
          "height": 0
        },
        "id": "80c26b37",
        "outputId": "8f9f3573-dd80-4f3b-ce2b-a4f28dda310f"
      },
      "outputs": [
        {
          "output_type": "stream",
          "name": "stdout",
          "text": [
            "+-----------+----------+\n",
            "|employee_id| join_date|\n",
            "+-----------+----------+\n",
            "|       E001|2020-05-15|\n",
            "|       E002|2022-01-10|\n",
            "|       E003|2018-11-20|\n",
            "+-----------+----------+\n",
            "\n"
          ]
        }
      ],
      "source": [
        "# Sample Data\n",
        "employees_data = [\n",
        "    (\"E001\", date(2020, 5, 15)),\n",
        "    (\"E002\", date(2022, 1, 10)),\n",
        "    (\"E003\", date(2018, 11, 20))\n",
        "]\n",
        "employees = spark.createDataFrame(employees_data, [\"employee_id\", \"join_date\"])\n",
        "employees.show()"
      ]
    },
    {
      "cell_type": "code",
      "source": [
        "employees.withColumn(\"Employee_Tenure\",year(current_date()) - year(col(\"join_date\"))).show()"
      ],
      "metadata": {
        "colab": {
          "base_uri": "https://localhost:8080/",
          "height": 0
        },
        "id": "dTdn4WdnkB_0",
        "outputId": "9e409ad9-2ef9-4f6d-d77e-37f15b00f128"
      },
      "id": "dTdn4WdnkB_0",
      "execution_count": 60,
      "outputs": [
        {
          "output_type": "stream",
          "name": "stdout",
          "text": [
            "+-----------+----------+---------------+\n",
            "|employee_id| join_date|Employee_Tenure|\n",
            "+-----------+----------+---------------+\n",
            "|       E001|2020-05-15|              5|\n",
            "|       E002|2022-01-10|              3|\n",
            "|       E003|2018-11-20|              7|\n",
            "+-----------+----------+---------------+\n",
            "\n"
          ]
        }
      ]
    },
    {
      "cell_type": "code",
      "source": [
        "# Solution\n",
        "tenure = employees.withColumn(\"tenure_months\",\n",
        "    months_between(current_date(), col(\"join_date\")))\n",
        "tenure.show()"
      ],
      "metadata": {
        "colab": {
          "base_uri": "https://localhost:8080/",
          "height": 0
        },
        "id": "qnsv8Yk5ks_E",
        "outputId": "dabcb0f4-16b6-42ee-9f8f-7534387ef1de"
      },
      "id": "qnsv8Yk5ks_E",
      "execution_count": 61,
      "outputs": [
        {
          "output_type": "stream",
          "name": "stdout",
          "text": [
            "+-----------+----------+-------------+\n",
            "|employee_id| join_date|tenure_months|\n",
            "+-----------+----------+-------------+\n",
            "|       E001|2020-05-15|  62.77419355|\n",
            "|       E002|2022-01-10|  42.93548387|\n",
            "|       E003|2018-11-20|  80.61290323|\n",
            "+-----------+----------+-------------+\n",
            "\n"
          ]
        }
      ]
    },
    {
      "cell_type": "markdown",
      "id": "b5ef61e8",
      "metadata": {
        "id": "b5ef61e8"
      },
      "source": [
        "## 27. Travel Agency: Destination Revenue"
      ]
    },
    {
      "cell_type": "code",
      "execution_count": 62,
      "id": "450ec81c",
      "metadata": {
        "id": "450ec81c"
      },
      "outputs": [],
      "source": [
        "# Sample Data\n",
        "bookings_data = [(\"B001\", \"Paris\", 2), (\"B002\", \"Tokyo\", 3)]\n",
        "packages_data = [(\"Paris\", 1200), (\"Tokyo\", 1500)]\n",
        "\n",
        "bookings = spark.createDataFrame(bookings_data, [\"booking_id\", \"destination\", \"num_travelers\"])\n",
        "packages = spark.createDataFrame(packages_data, [\"destination\", \"price_per_person\"])\n",
        "\n"
      ]
    },
    {
      "cell_type": "code",
      "source": [
        "bookings.show()"
      ],
      "metadata": {
        "colab": {
          "base_uri": "https://localhost:8080/",
          "height": 0
        },
        "id": "DUS-Je_Qlley",
        "outputId": "846a8e0c-58cf-4d7c-f70c-2f2082c413bb"
      },
      "id": "DUS-Je_Qlley",
      "execution_count": 63,
      "outputs": [
        {
          "output_type": "stream",
          "name": "stdout",
          "text": [
            "+----------+-----------+-------------+\n",
            "|booking_id|destination|num_travelers|\n",
            "+----------+-----------+-------------+\n",
            "|      B001|      Paris|            2|\n",
            "|      B002|      Tokyo|            3|\n",
            "+----------+-----------+-------------+\n",
            "\n"
          ]
        }
      ]
    },
    {
      "cell_type": "code",
      "source": [
        "packages.show()"
      ],
      "metadata": {
        "colab": {
          "base_uri": "https://localhost:8080/",
          "height": 0
        },
        "id": "rF-LGGkrllVU",
        "outputId": "4232c9b6-2b6a-4bf9-a75f-6c606a7fa1b3"
      },
      "id": "rF-LGGkrllVU",
      "execution_count": 64,
      "outputs": [
        {
          "output_type": "stream",
          "name": "stdout",
          "text": [
            "+-----------+----------------+\n",
            "|destination|price_per_person|\n",
            "+-----------+----------------+\n",
            "|      Paris|            1200|\n",
            "|      Tokyo|            1500|\n",
            "+-----------+----------------+\n",
            "\n"
          ]
        }
      ]
    },
    {
      "cell_type": "code",
      "source": [
        "revenue = bookings.join(packages,on='destination',how='inner').withColumn(\"revenue\",col(\"num_travelers\")*col(\"price_per_person\")).groupBy(\"destination\").agg(sum(\"revenue\").alias(\"total_revenue\"))\n",
        "revenue.show()"
      ],
      "metadata": {
        "colab": {
          "base_uri": "https://localhost:8080/",
          "height": 0
        },
        "id": "w0UHaYhulv1L",
        "outputId": "62fb03ed-9748-4c46-e297-a02d210b87c8"
      },
      "id": "w0UHaYhulv1L",
      "execution_count": 65,
      "outputs": [
        {
          "output_type": "stream",
          "name": "stdout",
          "text": [
            "+-----------+-------------+\n",
            "|destination|total_revenue|\n",
            "+-----------+-------------+\n",
            "|      Paris|         2400|\n",
            "|      Tokyo|         4500|\n",
            "+-----------+-------------+\n",
            "\n"
          ]
        }
      ]
    },
    {
      "cell_type": "markdown",
      "id": "4c0e35ae",
      "metadata": {
        "id": "4c0e35ae"
      },
      "source": [
        "## 28. Ride-Sharing: Driver Cancellation Rate"
      ]
    },
    {
      "cell_type": "code",
      "execution_count": 66,
      "id": "ff985f27",
      "metadata": {
        "colab": {
          "base_uri": "https://localhost:8080/",
          "height": 0
        },
        "id": "ff985f27",
        "outputId": "02f1de63-0762-4f54-c13a-fe340a9a851b"
      },
      "outputs": [
        {
          "output_type": "stream",
          "name": "stdout",
          "text": [
            "+---------+---------+\n",
            "|driver_id|   status|\n",
            "+---------+---------+\n",
            "|     D001|completed|\n",
            "|     D001| canceled|\n",
            "|     D001|completed|\n",
            "|     D002|completed|\n",
            "|     D002|completed|\n",
            "|     D003| canceled|\n",
            "+---------+---------+\n",
            "\n"
          ]
        }
      ],
      "source": [
        "# Sample Data\n",
        "trips_data = [\n",
        "    (\"D001\", \"completed\"), (\"D001\", \"canceled\"), (\"D001\", \"completed\"),\n",
        "    (\"D002\", \"completed\"), (\"D002\", \"completed\"), (\"D003\", \"canceled\")\n",
        "]\n",
        "trips = spark.createDataFrame(trips_data, [\"driver_id\", \"status\"])\n",
        "trips.show()"
      ]
    },
    {
      "cell_type": "code",
      "source": [
        "total_trips = trips.groupBy(\"driver_id\").agg(count(\"*\").alias(\"total_trips\"))"
      ],
      "metadata": {
        "id": "5bIRqvyCmvIG"
      },
      "id": "5bIRqvyCmvIG",
      "execution_count": 67,
      "outputs": []
    },
    {
      "cell_type": "code",
      "source": [
        "canceled_tirps = trips.groupBy(\"driver_id\").agg(count(when(col(\"status\")=='canceled', 1)).alias(\"canceled_trips\"))"
      ],
      "metadata": {
        "id": "ikXTMptfmvEp"
      },
      "id": "ikXTMptfmvEp",
      "execution_count": 68,
      "outputs": []
    },
    {
      "cell_type": "code",
      "source": [
        "cancellation_rates = total_trips.join(canceled_tirps,on='driver_id',how='inner').withColumn('cancelllation_rate',round(100 * col(\"canceled_trips\")/col(\"total_trips\"),2))\n",
        "cancellation_rates.show()"
      ],
      "metadata": {
        "colab": {
          "base_uri": "https://localhost:8080/",
          "height": 0
        },
        "id": "nyQ6uJQzmvBz",
        "outputId": "32f374b5-7e85-4c55-cae0-a1c4eb8619b8"
      },
      "id": "nyQ6uJQzmvBz",
      "execution_count": 69,
      "outputs": [
        {
          "output_type": "stream",
          "name": "stdout",
          "text": [
            "+---------+-----------+--------------+------------------+\n",
            "|driver_id|total_trips|canceled_trips|cancelllation_rate|\n",
            "+---------+-----------+--------------+------------------+\n",
            "|     D001|          3|             1|             33.33|\n",
            "|     D002|          2|             0|               0.0|\n",
            "|     D003|          1|             1|             100.0|\n",
            "+---------+-----------+--------------+------------------+\n",
            "\n"
          ]
        }
      ]
    },
    {
      "cell_type": "markdown",
      "id": "5ff1749e",
      "metadata": {
        "id": "5ff1749e"
      },
      "source": [
        "## 29. Warehouse: Inventory Change Tracking"
      ]
    },
    {
      "cell_type": "code",
      "execution_count": 70,
      "id": "eb2dfc51",
      "metadata": {
        "colab": {
          "base_uri": "https://localhost:8080/",
          "height": 0
        },
        "id": "eb2dfc51",
        "outputId": "9f3fbbd5-66d0-4d78-a902-96e7d3c148f2"
      },
      "outputs": [
        {
          "output_type": "stream",
          "name": "stdout",
          "text": [
            "+----------+----------+-----+\n",
            "|      date|product_id|stock|\n",
            "+----------+----------+-----+\n",
            "|2023-10-01|      P100|   50|\n",
            "|2023-10-02|      P100|   45|\n",
            "|2023-10-03|      P100|   40|\n",
            "|2023-10-01|      P200|  100|\n",
            "|2023-10-02|      P200|  120|\n",
            "|2023-10-03|      P200|  110|\n",
            "+----------+----------+-----+\n",
            "\n"
          ]
        }
      ],
      "source": [
        "# Sample Data\n",
        "inventory_data = [\n",
        "    (\"2023-10-01\", \"P100\", 50),\n",
        "    (\"2023-10-02\", \"P100\", 45),\n",
        "    (\"2023-10-03\", \"P100\", 40),\n",
        "    (\"2023-10-01\", \"P200\", 100),\n",
        "    (\"2023-10-02\", \"P200\", 120),\n",
        "    (\"2023-10-03\", \"P200\", 110)\n",
        "]\n",
        "inventory = spark.createDataFrame(inventory_data, [\"date\", \"product_id\", \"stock\"])\n",
        "inventory.show()"
      ]
    },
    {
      "cell_type": "code",
      "source": [
        "window_spec = Window.partitionBy(\"product_id\").orderBy(\"date\")\n",
        "invendtory_change = inventory.withColumn(\"prev_stock\",lag(\"stock\").over(window_spec)).withColumn(\"stock_change\",col(\"stock\")-col(\"prev_stock\"))\n",
        "invendtory_change.show()"
      ],
      "metadata": {
        "colab": {
          "base_uri": "https://localhost:8080/",
          "height": 0
        },
        "id": "51b_TRnNFoqq",
        "outputId": "743aaa62-cf09-4784-c5e5-afbc39c4b9e4"
      },
      "id": "51b_TRnNFoqq",
      "execution_count": 71,
      "outputs": [
        {
          "output_type": "stream",
          "name": "stdout",
          "text": [
            "+----------+----------+-----+----------+------------+\n",
            "|      date|product_id|stock|prev_stock|stock_change|\n",
            "+----------+----------+-----+----------+------------+\n",
            "|2023-10-01|      P100|   50|      NULL|        NULL|\n",
            "|2023-10-02|      P100|   45|        50|          -5|\n",
            "|2023-10-03|      P100|   40|        45|          -5|\n",
            "|2023-10-01|      P200|  100|      NULL|        NULL|\n",
            "|2023-10-02|      P200|  120|       100|          20|\n",
            "|2023-10-03|      P200|  110|       120|         -10|\n",
            "+----------+----------+-----+----------+------------+\n",
            "\n"
          ]
        }
      ]
    },
    {
      "cell_type": "markdown",
      "id": "47088bab",
      "metadata": {
        "id": "47088bab"
      },
      "source": [
        "## 30. Education: Performance Improvement"
      ]
    },
    {
      "cell_type": "code",
      "execution_count": 72,
      "id": "65a21269",
      "metadata": {
        "colab": {
          "base_uri": "https://localhost:8080/",
          "height": 0
        },
        "id": "65a21269",
        "outputId": "9f734e8b-65dc-4254-df98-97adefe84bb7"
      },
      "outputs": [
        {
          "output_type": "stream",
          "name": "stdout",
          "text": [
            "+----------+-------+----+-----+\n",
            "|student_id|subject|exam|score|\n",
            "+----------+-------+----+-----+\n",
            "|      S001|   Math|   1|   75|\n",
            "|      S001|   Math|   2|   85|\n",
            "|      S002|Science|   1|   80|\n",
            "|      S002|Science|   2|   70|\n",
            "|      S003|   Math|   1|   60|\n",
            "|      S003|   Math|   2|   75|\n",
            "+----------+-------+----+-----+\n",
            "\n"
          ]
        }
      ],
      "source": [
        "# Sample Data\n",
        "scores_data = [\n",
        "    (\"S001\", \"Math\", 1, 75), (\"S001\", \"Math\", 2, 85),\n",
        "    (\"S002\", \"Science\", 1, 80), (\"S002\", \"Science\", 2, 70),\n",
        "    (\"S003\", \"Math\", 1, 60), (\"S003\", \"Math\", 2, 75)\n",
        "]\n",
        "scores = spark.createDataFrame(scores_data, [\"student_id\", \"subject\", \"exam\", \"score\"])\n",
        "scores.show()\n"
      ]
    },
    {
      "cell_type": "code",
      "source": [
        "window_spec = Window.partitionBy(\"student_id\",\"subject\").orderBy(\"exam\")\n",
        "score_change = scores.withColumn(\"prev_score\",lag(\"score\").over(window_spec)).withColumn(\"improvement\",col(\"score\")-col(\"prev_score\"))\n",
        "score_change.show()"
      ],
      "metadata": {
        "colab": {
          "base_uri": "https://localhost:8080/",
          "height": 0
        },
        "id": "I9O9Xc6UGpRD",
        "outputId": "55ec8ac6-2ccc-4a0f-e5de-c65852507db7"
      },
      "id": "I9O9Xc6UGpRD",
      "execution_count": 73,
      "outputs": [
        {
          "output_type": "stream",
          "name": "stdout",
          "text": [
            "+----------+-------+----+-----+----------+-----------+\n",
            "|student_id|subject|exam|score|prev_score|improvement|\n",
            "+----------+-------+----+-----+----------+-----------+\n",
            "|      S001|   Math|   1|   75|      NULL|       NULL|\n",
            "|      S001|   Math|   2|   85|        75|         10|\n",
            "|      S002|Science|   1|   80|      NULL|       NULL|\n",
            "|      S002|Science|   2|   70|        80|        -10|\n",
            "|      S003|   Math|   1|   60|      NULL|       NULL|\n",
            "|      S003|   Math|   2|   75|        60|         15|\n",
            "+----------+-------+----+-----+----------+-----------+\n",
            "\n"
          ]
        }
      ]
    },
    {
      "cell_type": "code",
      "source": [
        "score_change.filter(col(\"improvement\")>0).show()"
      ],
      "metadata": {
        "colab": {
          "base_uri": "https://localhost:8080/",
          "height": 0
        },
        "id": "p2dmK_PPGpOB",
        "outputId": "8242b5aa-fb71-4ad9-ed0b-090dff4cd3d9"
      },
      "id": "p2dmK_PPGpOB",
      "execution_count": 74,
      "outputs": [
        {
          "output_type": "stream",
          "name": "stdout",
          "text": [
            "+----------+-------+----+-----+----------+-----------+\n",
            "|student_id|subject|exam|score|prev_score|improvement|\n",
            "+----------+-------+----+-----+----------+-----------+\n",
            "|      S001|   Math|   2|   85|        75|         10|\n",
            "|      S003|   Math|   2|   75|        60|         15|\n",
            "+----------+-------+----+-----+----------+-----------+\n",
            "\n"
          ]
        }
      ]
    },
    {
      "cell_type": "markdown",
      "id": "b3964e93",
      "metadata": {
        "id": "b3964e93"
      },
      "source": [
        "## 31. Retail Banking: Monthly Spend Increase"
      ]
    },
    {
      "cell_type": "code",
      "execution_count": 75,
      "id": "49d654d1",
      "metadata": {
        "colab": {
          "base_uri": "https://localhost:8080/",
          "height": 0
        },
        "id": "49d654d1",
        "outputId": "566af925-aabf-4b1a-94c4-2c537b18b46d"
      },
      "outputs": [
        {
          "output_type": "stream",
          "name": "stdout",
          "text": [
            "+-------+-------+------+\n",
            "|user_id|  month|amount|\n",
            "+-------+-------+------+\n",
            "|   U100|2023-01|  1000|\n",
            "|   U100|2023-02|  1800|\n",
            "|   U200|2023-01|   500|\n",
            "|   U200|2023-02|   700|\n",
            "|   U300|2023-01|  2000|\n",
            "|   U300|2023-02|  2100|\n",
            "+-------+-------+------+\n",
            "\n"
          ]
        }
      ],
      "source": [
        "# Sample Data\n",
        "spend_data = [\n",
        "    (\"U100\", \"2023-01\", 1000), (\"U100\", \"2023-02\", 1800),\n",
        "    (\"U200\", \"2023-01\", 500), (\"U200\", \"2023-02\", 700),\n",
        "    (\"U300\", \"2023-01\", 2000), (\"U300\", \"2023-02\", 2100)\n",
        "]\n",
        "spend = spark.createDataFrame(spend_data, [\"user_id\", \"month\", \"amount\"])\n",
        "\n",
        "spend.show()"
      ]
    },
    {
      "cell_type": "code",
      "source": [
        "window_spec = Window.partitionBy(\"user_id\").orderBy(\"month\")\n",
        "spend_increase = spend.withColumn(\"prev_month_amount\",lag(\"amount\").over(window_spec)).withColumn(\"change\",col(\"amount\")-col(\"prev_month_amount\")).withColumn(\"pct_change\",100*round(col(\"change\")/col(\"prev_month_amount\"),2))\n",
        "spend_increase.filter(col(\"pct_change\")>50).show()"
      ],
      "metadata": {
        "colab": {
          "base_uri": "https://localhost:8080/",
          "height": 0
        },
        "id": "M8wwQ9N3HjPY",
        "outputId": "69ccced5-9e2a-4d75-829e-60d425000aa4"
      },
      "id": "M8wwQ9N3HjPY",
      "execution_count": 76,
      "outputs": [
        {
          "output_type": "stream",
          "name": "stdout",
          "text": [
            "+-------+-------+------+-----------------+------+----------+\n",
            "|user_id|  month|amount|prev_month_amount|change|pct_change|\n",
            "+-------+-------+------+-----------------+------+----------+\n",
            "|   U100|2023-02|  1800|             1000|   800|      80.0|\n",
            "+-------+-------+------+-----------------+------+----------+\n",
            "\n"
          ]
        }
      ]
    },
    {
      "cell_type": "markdown",
      "id": "9da543e7",
      "metadata": {
        "id": "9da543e7"
      },
      "source": [
        "## 32. IoT Sensors: Out-of-Range Detection"
      ]
    },
    {
      "cell_type": "code",
      "execution_count": 77,
      "id": "38401648",
      "metadata": {
        "colab": {
          "base_uri": "https://localhost:8080/",
          "height": 0
        },
        "id": "38401648",
        "outputId": "dd329457-c4d4-45d5-e37b-c03f9712c3e0"
      },
      "outputs": [
        {
          "output_type": "stream",
          "name": "stdout",
          "text": [
            "+---------+-----------+\n",
            "|sensor_id|temperature|\n",
            "+---------+-----------+\n",
            "|     S001|       25.5|\n",
            "|     S002|       65.2|\n",
            "|     S003|       42.0|\n",
            "|     S004|       75.5|\n",
            "|     S005|       18.0|\n",
            "|     S006|       95.0|\n",
            "+---------+-----------+\n",
            "\n"
          ]
        }
      ],
      "source": [
        "# Sample Data\n",
        "sensor_data = [\n",
        "    (\"S001\", 25.5), (\"S002\", 65.2), (\"S003\", 42.0),\n",
        "    (\"S004\", 75.5), (\"S005\", 18.0), (\"S006\", 95.0)\n",
        "]\n",
        "sensors = spark.createDataFrame(sensor_data, [\"sensor_id\", \"temperature\"])\n",
        "sensors.show()"
      ]
    },
    {
      "cell_type": "code",
      "source": [
        "sensor_out_range = sensors.filter((col(\"temperature\") > 60) | (col(\"temperature\") < 20))\n",
        "sensor_out_range.show()"
      ],
      "metadata": {
        "colab": {
          "base_uri": "https://localhost:8080/",
          "height": 0
        },
        "id": "wuPDIK0jJdm3",
        "outputId": "7f35e3c6-413e-42d0-e15d-626f112f8b55"
      },
      "id": "wuPDIK0jJdm3",
      "execution_count": 79,
      "outputs": [
        {
          "output_type": "stream",
          "name": "stdout",
          "text": [
            "+---------+-----------+\n",
            "|sensor_id|temperature|\n",
            "+---------+-----------+\n",
            "|     S002|       65.2|\n",
            "|     S004|       75.5|\n",
            "|     S005|       18.0|\n",
            "|     S006|       95.0|\n",
            "+---------+-----------+\n",
            "\n"
          ]
        }
      ]
    },
    {
      "cell_type": "markdown",
      "id": "a8fb7183",
      "metadata": {
        "id": "a8fb7183"
      },
      "source": [
        "## 33. Sales Analysis: Duplicate Product Listings"
      ]
    },
    {
      "cell_type": "code",
      "execution_count": 80,
      "id": "bd531901",
      "metadata": {
        "colab": {
          "base_uri": "https://localhost:8080/",
          "height": 0
        },
        "id": "bd531901",
        "outputId": "a802f639-d98c-42f1-dcd3-b5f050253caa"
      },
      "outputs": [
        {
          "output_type": "stream",
          "name": "stdout",
          "text": [
            "+----------+-----+-----------------+\n",
            "|      name|price|      description|\n",
            "+----------+-----+-----------------+\n",
            "|   Phone X|  999|     Latest model|\n",
            "|   Phone X|  999|     Latest model|\n",
            "|Laptop Pro| 1500| High performance|\n",
            "|   Phone X|  899|Refurbished model|\n",
            "+----------+-----+-----------------+\n",
            "\n"
          ]
        }
      ],
      "source": [
        "# Sample Data\n",
        "products_data = [\n",
        "    (\"Phone X\", 999, \"Latest model\"),\n",
        "    (\"Phone X\", 999, \"Latest model\"),\n",
        "    (\"Laptop Pro\", 1500, \"High performance\"),\n",
        "    (\"Phone X\", 899, \"Refurbished model\")\n",
        "]\n",
        "products = spark.createDataFrame(products_data, [\"name\", \"price\", \"description\"])\n",
        "\n",
        "products.show()"
      ]
    },
    {
      "cell_type": "code",
      "source": [
        "products.groupBy(\"name\",\"price\",\"description\").count().show()"
      ],
      "metadata": {
        "colab": {
          "base_uri": "https://localhost:8080/",
          "height": 0
        },
        "id": "0QYeM8BcKlGW",
        "outputId": "b44c9f19-94e6-4db9-d9f4-a2632972ff49"
      },
      "id": "0QYeM8BcKlGW",
      "execution_count": 81,
      "outputs": [
        {
          "output_type": "stream",
          "name": "stdout",
          "text": [
            "+----------+-----+-----------------+-----+\n",
            "|      name|price|      description|count|\n",
            "+----------+-----+-----------------+-----+\n",
            "|   Phone X|  999|     Latest model|    2|\n",
            "|Laptop Pro| 1500| High performance|    1|\n",
            "|   Phone X|  899|Refurbished model|    1|\n",
            "+----------+-----+-----------------+-----+\n",
            "\n"
          ]
        }
      ]
    },
    {
      "cell_type": "markdown",
      "id": "72433fe5",
      "metadata": {
        "id": "72433fe5"
      },
      "source": [
        "## 34. Finance: PAN Masking UDF"
      ]
    },
    {
      "cell_type": "code",
      "execution_count": 82,
      "id": "267699d7",
      "metadata": {
        "colab": {
          "base_uri": "https://localhost:8080/",
          "height": 0
        },
        "id": "267699d7",
        "outputId": "de7070da-8954-4c35-b382-8093e6581382"
      },
      "outputs": [
        {
          "output_type": "stream",
          "name": "stdout",
          "text": [
            "+-------+----------+\n",
            "|user_id|       pan|\n",
            "+-------+----------+\n",
            "|   U001|ABCDE1234F|\n",
            "|   U002|FGHIJ5678K|\n",
            "+-------+----------+\n",
            "\n"
          ]
        }
      ],
      "source": [
        "# Sample Data\n",
        "users_data = [(\"U001\", \"ABCDE1234F\"), (\"U002\", \"FGHIJ5678K\")]\n",
        "users = spark.createDataFrame(users_data, [\"user_id\", \"pan\"])\n",
        "users.show()\n"
      ]
    },
    {
      "cell_type": "code",
      "source": [
        "def pan_mask(pan):\n",
        "  return pan[:2]+\"XXXXXX\"+pan[-2:]\n",
        "\n",
        "\n",
        "mask_udf = udf(pan_mask,StringType()) # save udf name along with input parameter data type\n",
        "masked_users = users.withColumn(\"masked_pan\",mask_udf(col(\"pan\"))) # call the variable with passing value to input parameter\n",
        "masked_users.show()"
      ],
      "metadata": {
        "colab": {
          "base_uri": "https://localhost:8080/",
          "height": 0
        },
        "id": "niDTFPruLEY3",
        "outputId": "fb382feb-86be-446b-f4e6-b3e90d24999d"
      },
      "id": "niDTFPruLEY3",
      "execution_count": 83,
      "outputs": [
        {
          "output_type": "stream",
          "name": "stdout",
          "text": [
            "+-------+----------+----------+\n",
            "|user_id|       pan|masked_pan|\n",
            "+-------+----------+----------+\n",
            "|   U001|ABCDE1234F|ABXXXXXX4F|\n",
            "|   U002|FGHIJ5678K|FGXXXXXX8K|\n",
            "+-------+----------+----------+\n",
            "\n"
          ]
        }
      ]
    },
    {
      "cell_type": "markdown",
      "id": "8e15e61e",
      "metadata": {
        "id": "8e15e61e"
      },
      "source": [
        "## 35. Energy Sector: Daily Consumption"
      ]
    },
    {
      "cell_type": "code",
      "execution_count": 84,
      "id": "4fb4cd82",
      "metadata": {
        "colab": {
          "base_uri": "https://localhost:8080/",
          "height": 0
        },
        "id": "4fb4cd82",
        "outputId": "a40db836-d326-45a7-cf3c-40b75631202e"
      },
      "outputs": [
        {
          "output_type": "stream",
          "name": "stdout",
          "text": [
            "+----------+------+----+\n",
            "|      date|region| kwh|\n",
            "+----------+------+----+\n",
            "|2023-10-01| North|2500|\n",
            "|2023-10-01| South|3200|\n",
            "|2023-10-02| North|2600|\n",
            "|2023-10-02| South|3100|\n",
            "+----------+------+----+\n",
            "\n"
          ]
        }
      ],
      "source": [
        "# Sample Data\n",
        "energy_data = [\n",
        "    (\"2023-10-01\", \"North\", 2500),\n",
        "    (\"2023-10-01\", \"South\", 3200),\n",
        "    (\"2023-10-02\", \"North\", 2600),\n",
        "    (\"2023-10-02\", \"South\", 3100)\n",
        "]\n",
        "energy = spark.createDataFrame(energy_data, [\"date\", \"region\", \"kwh\"])\n",
        "\n",
        "energy.show()"
      ]
    },
    {
      "cell_type": "code",
      "source": [
        "energy.groupBy(\"date\").agg(sum(\"kwh\").alias(\"daily_consumption\")).show()"
      ],
      "metadata": {
        "colab": {
          "base_uri": "https://localhost:8080/",
          "height": 0
        },
        "id": "kT-416dvMWhu",
        "outputId": "3a5858b7-9480-444b-fb36-e04b69d31540"
      },
      "id": "kT-416dvMWhu",
      "execution_count": 85,
      "outputs": [
        {
          "output_type": "stream",
          "name": "stdout",
          "text": [
            "+----------+-----------------+\n",
            "|      date|daily_consumption|\n",
            "+----------+-----------------+\n",
            "|2023-10-01|             5700|\n",
            "|2023-10-02|             5700|\n",
            "+----------+-----------------+\n",
            "\n"
          ]
        }
      ]
    },
    {
      "cell_type": "markdown",
      "id": "794dbaa9",
      "metadata": {
        "id": "794dbaa9"
      },
      "source": [
        "## 36. Data Governance: Schema Drift Detection"
      ]
    },
    {
      "cell_type": "code",
      "execution_count": null,
      "id": "0b4904fe",
      "metadata": {
        "colab": {
          "base_uri": "https://localhost:8080/"
        },
        "id": "0b4904fe",
        "outputId": "7fff7c12-ed0d-45d7-921d-d2367dcd6fdd"
      },
      "outputs": [
        {
          "output_type": "stream",
          "name": "stdout",
          "text": [
            "Schema Drift Report: {'added': ['full_name', 'email'], 'removed': ['name'], 'changed': []}\n"
          ]
        }
      ],
      "source": [
        "# Sample schemas\n",
        "schema_v1 = StructType([\n",
        "    StructField(\"id\", IntegerType()),\n",
        "    StructField(\"name\", StringType())\n",
        "])\n",
        "\n",
        "schema_v2 = StructType([\n",
        "    StructField(\"id\", IntegerType()),\n",
        "    StructField(\"full_name\", StringType()),  # Changed column\n",
        "    StructField(\"email\", StringType())  # New column\n",
        "])\n",
        "\n",
        "# Detection function\n",
        "def detect_schema_drift(current_schema, new_schema):\n",
        "    current_fields = {f.name: f.dataType for f in current_schema}\n",
        "    new_fields = {f.name: f.dataType for f in new_schema}\n",
        "\n",
        "    added = [col for col in new_fields if col not in current_fields]\n",
        "    removed = [col for col in current_fields if col not in new_fields]\n",
        "    changed = [\n",
        "        col for col in current_fields\n",
        "        if col in new_fields and current_fields[col] != new_fields[col]\n",
        "    ]\n",
        "\n",
        "    return {\"added\": added, \"removed\": removed, \"changed\": changed}\n",
        "\n",
        "# Test detection\n",
        "drift_report = detect_schema_drift(schema_v1, schema_v2)\n",
        "print(f\"Schema Drift Report: {drift_report}\")"
      ]
    },
    {
      "cell_type": "markdown",
      "id": "aa14ef06",
      "metadata": {
        "id": "aa14ef06"
      },
      "source": [
        "## 37. Power BI: Sales Aggregation Pipeline"
      ]
    },
    {
      "cell_type": "code",
      "execution_count": 87,
      "id": "7110c099",
      "metadata": {
        "colab": {
          "base_uri": "https://localhost:8080/",
          "height": 0
        },
        "id": "7110c099",
        "outputId": "6b3badf6-5c8d-4a00-92ea-89614bf429b5"
      },
      "outputs": [
        {
          "output_type": "stream",
          "name": "stdout",
          "text": [
            "Gold Layer:\n",
            "+----------+----------+---------+-----------+\n",
            "|      date|product_id|total_qty|total_sales|\n",
            "+----------+----------+---------+-----------+\n",
            "|2023-10-01|      P100|        2|      51.98|\n",
            "|2023-10-02|      P100|        3|      77.97|\n",
            "|2023-10-01|      P200|        1|      49.99|\n",
            "+----------+----------+---------+-----------+\n",
            "\n"
          ]
        }
      ],
      "source": [
        "# Raw data\n",
        "raw_sales_data = [\n",
        "    (1001, \"2023-10-01\", \"P100\", 2, 25.99),\n",
        "    (1002, \"2023-10-01\", \"P200\", 1, 49.99),\n",
        "    (1003, \"2023-10-02\", \"P100\", 3, 25.99)\n",
        "]\n",
        "raw_sales = spark.createDataFrame(raw_sales_data, [\"order_id\", \"date\", \"product_id\", \"qty\", \"price\"])\n",
        "\n",
        "# Silver layer (cleaned)\n",
        "silver_sales = raw_sales.dropna().filter(col(\"qty\") > 0)\n",
        "\n",
        "# Gold layer (aggregated)\n",
        "gold_sales = silver_sales.groupBy(\"date\", \"product_id\").agg(\n",
        "    sum(\"qty\").alias(\"total_qty\"),\n",
        "    sum(col(\"qty\") * col(\"price\")).alias(\"total_sales\")\n",
        ")\n",
        "\n",
        "# Show results\n",
        "print(\"Gold Layer:\")\n",
        "gold_sales.show()"
      ]
    },
    {
      "cell_type": "markdown",
      "id": "ecc8804c",
      "metadata": {
        "id": "ecc8804c"
      },
      "source": [
        "## 38. Security Monitoring: Failed Login Detection"
      ]
    },
    {
      "cell_type": "code",
      "execution_count": 88,
      "id": "e7d9b957",
      "metadata": {
        "colab": {
          "base_uri": "https://localhost:8080/",
          "height": 0
        },
        "id": "e7d9b957",
        "outputId": "152c375c-e91c-4321-973c-dcb080273d27"
      },
      "outputs": [
        {
          "output_type": "stream",
          "name": "stdout",
          "text": [
            "+--------+-------------------+------+----------+\n",
            "|username|          timestamp|status|fail_count|\n",
            "+--------+-------------------+------+----------+\n",
            "|   user1|2023-10-01 09:00:15|  fail|         2|\n",
            "+--------+-------------------+------+----------+\n",
            "\n"
          ]
        }
      ],
      "source": [
        "# Sample Data\n",
        "login_data = [\n",
        "    (\"user1\", \"2023-10-01 09:00:00\", \"success\"),\n",
        "    (\"user1\", \"2023-10-01 09:00:05\", \"success\"),\n",
        "    (\"user1\", \"2023-10-01 09:00:10\", \"fail\"),\n",
        "    (\"user1\", \"2023-10-01 09:00:15\", \"fail\"),\n",
        "    (\"user2\", \"2023-10-01 10:00:00\", \"success\")\n",
        "]\n",
        "logins = spark.createDataFrame(login_data, [\"username\", \"timestamp\", \"status\"]) \\\n",
        "    .withColumn(\"timestamp\", to_timestamp(col(\"timestamp\")))\n",
        "\n",
        "# Solution\n",
        "window_spec = Window.partitionBy(\"username\").orderBy(\"timestamp\").rowsBetween(-2, 0)\n",
        "failed_logins = logins.filter(col(\"status\") == \"fail\") \\\n",
        "    .withColumn(\"fail_count\", count(\"*\").over(window_spec)) \\\n",
        "    .filter(col(\"fail_count\") >= 2)\n",
        "failed_logins.show()"
      ]
    },
    {
      "cell_type": "markdown",
      "id": "c6ab7801",
      "metadata": {
        "id": "c6ab7801"
      },
      "source": [
        "## 39. IoT Analytics: 15-min Aggregations"
      ]
    },
    {
      "cell_type": "code",
      "execution_count": 89,
      "id": "aa01a803",
      "metadata": {
        "colab": {
          "base_uri": "https://localhost:8080/",
          "height": 0
        },
        "id": "aa01a803",
        "outputId": "efbb4a69-7a09-430b-a39d-820a8cfdc11f"
      },
      "outputs": [
        {
          "output_type": "stream",
          "name": "stdout",
          "text": [
            "+---------+-------------------+-------------------+---------+\n",
            "|sensor_id|              start|                end|avg_value|\n",
            "+---------+-------------------+-------------------+---------+\n",
            "|     S001|2023-10-01 08:00:00|2023-10-01 08:15:00|    25.75|\n",
            "|     S001|2023-10-01 08:15:00|2023-10-01 08:30:00|     26.0|\n",
            "+---------+-------------------+-------------------+---------+\n",
            "\n"
          ]
        }
      ],
      "source": [
        "# Sample Data\n",
        "sensor_data = [\n",
        "    (\"S001\", \"2023-10-01 08:05:00\", 25.5),\n",
        "    (\"S001\", \"2023-10-01 08:10:00\", 26.0),\n",
        "    (\"S001\", \"2023-10-01 08:15:00\", 25.8),\n",
        "    (\"S001\", \"2023-10-01 08:20:00\", 26.2)\n",
        "]\n",
        "sensor_logs = spark.createDataFrame(sensor_data, [\"sensor_id\", \"timestamp\", \"value\"]) \\\n",
        "    .withColumn(\"timestamp\", to_timestamp(col(\"timestamp\")))\n",
        "\n",
        "# Solution\n",
        "agg_15min = sensor_logs.groupBy(\n",
        "    \"sensor_id\",\n",
        "    window(\"timestamp\", \"15 minutes\")\n",
        ").agg(avg(\"value\").alias(\"avg_value\"))\n",
        "\n",
        "agg_15min.select(\"sensor_id\", \"window.start\", \"window.end\", \"avg_value\").show()"
      ]
    },
    {
      "cell_type": "markdown",
      "id": "dabb1846",
      "metadata": {
        "id": "dabb1846"
      },
      "source": [
        "## 40. Call Center: Peak Call Hours"
      ]
    },
    {
      "cell_type": "code",
      "execution_count": 90,
      "id": "9c83dbcf",
      "metadata": {
        "colab": {
          "base_uri": "https://localhost:8080/",
          "height": 0
        },
        "id": "9c83dbcf",
        "outputId": "44bbddfe-3f4a-49e1-e5be-85897ae8fd23"
      },
      "outputs": [
        {
          "output_type": "stream",
          "name": "stdout",
          "text": [
            "+-----------+----+-----+\n",
            "|day_of_week|hour|count|\n",
            "+-----------+----+-----+\n",
            "|          2|  14|    3|\n",
            "|          1|   9|    2|\n",
            "|          1|  10|    1|\n",
            "+-----------+----+-----+\n",
            "\n"
          ]
        }
      ],
      "source": [
        "from pyspark.sql.functions import *\n",
        "\n",
        "# Corrected Sample Data\n",
        "calls_data = [\n",
        "    (\"2023-10-01 09:15:00\",), (\"2023-10-01 09:30:00\",),\n",
        "    (\"2023-10-01 10:00:00\",), (\"2023-10-02 14:15:00\",),\n",
        "    (\"2023-10-02 14:30:00\",), (\"2023-10-02 14:45:00\",)\n",
        "]\n",
        "\n",
        "calls = spark.createDataFrame(calls_data, [\"call_time\"]) \\\n",
        "    .withColumn(\"call_time\", to_timestamp(col(\"call_time\")))\n",
        "\n",
        "# Solution\n",
        "peak_hours = calls.groupBy(\n",
        "    dayofweek(\"call_time\").alias(\"day_of_week\"),\n",
        "    hour(\"call_time\").alias(\"hour\")\n",
        ").count().orderBy(desc(\"count\"))\n",
        "\n",
        "peak_hours.show()\n"
      ]
    },
    {
      "cell_type": "markdown",
      "id": "065b2c13",
      "metadata": {
        "id": "065b2c13"
      },
      "source": [
        "## 41. Marketing Funnel: User Journey"
      ]
    },
    {
      "cell_type": "code",
      "execution_count": 91,
      "id": "8c1522d1",
      "metadata": {
        "colab": {
          "base_uri": "https://localhost:8080/",
          "height": 0
        },
        "id": "8c1522d1",
        "outputId": "ef3024e2-279a-423c-de22-17b7de4c1ec2"
      },
      "outputs": [
        {
          "output_type": "stream",
          "name": "stdout",
          "text": [
            "+--------+-----+\n",
            "|   event|users|\n",
            "+--------+-----+\n",
            "|    view|    3|\n",
            "|   click|    2|\n",
            "|purchase|    1|\n",
            "+--------+-----+\n",
            "\n"
          ]
        }
      ],
      "source": [
        "# Sample Data\n",
        "events_data = [\n",
        "    (\"user1\", \"view\", \"2023-10-01 09:00:00\"),\n",
        "    (\"user1\", \"click\", \"2023-10-01 09:01:00\"),\n",
        "    (\"user1\", \"purchase\", \"2023-10-01 09:05:00\"),\n",
        "    (\"user2\", \"view\", \"2023-10-01 10:00:00\"),\n",
        "    (\"user3\", \"view\", \"2023-10-01 11:00:00\"),\n",
        "    (\"user3\", \"click\", \"2023-10-01 11:02:00\")\n",
        "]\n",
        "events = spark.createDataFrame(events_data, [\"user_id\", \"event\", \"timestamp\"])\n",
        "\n",
        "# Solution - Funnel conversion\n",
        "funnel_stages = [\"view\", \"click\", \"purchase\"]\n",
        "funnel_counts = events.groupBy(\"event\").agg(countDistinct(\"user_id\").alias(\"users\")) \\\n",
        "    .filter(col(\"event\").isin(funnel_stages)) \\\n",
        "    .orderBy(expr(f\"array_position(array('view','click','purchase'), event)\"))\n",
        "\n",
        "funnel_counts.show()"
      ]
    },
    {
      "cell_type": "markdown",
      "id": "99750476",
      "metadata": {
        "id": "99750476"
      },
      "source": [
        "## 42. Sports Analytics: Performance Trends"
      ]
    },
    {
      "cell_type": "code",
      "execution_count": 92,
      "id": "bd30f9b6",
      "metadata": {
        "colab": {
          "base_uri": "https://localhost:8080/",
          "height": 0
        },
        "id": "bd30f9b6",
        "outputId": "0b84605f-a110-41ff-cbb7-ddda4b877d56"
      },
      "outputs": [
        {
          "output_type": "stream",
          "name": "stdout",
          "text": [
            "+-------+---------------+---------------+---------------+\n",
            "| player|avg_improvement|min_improvement|max_improvement|\n",
            "+-------+---------------+---------------+---------------+\n",
            "|PlayerA|            3.5|              3|              4|\n",
            "|PlayerB|            1.0|             -3|              5|\n",
            "+-------+---------------+---------------+---------------+\n",
            "\n"
          ]
        }
      ],
      "source": [
        "# Sample Data\n",
        "player_data = [\n",
        "    (\"PlayerA\", \"Season1\", 85), (\"PlayerA\", \"Season2\", 88), (\"PlayerA\", \"Season3\", 92),\n",
        "    (\"PlayerB\", \"Season1\", 78), (\"PlayerB\", \"Season2\", 75), (\"PlayerB\", \"Season3\", 80)\n",
        "]\n",
        "players = spark.createDataFrame(player_data, [\"player\", \"season\", \"avg_score\"])\n",
        "\n",
        "# Solution\n",
        "window_spec = Window.partitionBy(\"player\").orderBy(\"season\")\n",
        "trend_analysis = players.withColumn(\"prev_score\", lag(\"avg_score\").over(window_spec)) \\\n",
        "    .filter(col(\"prev_score\").isNotNull()) \\\n",
        "    .withColumn(\"improvement\", col(\"avg_score\") - col(\"prev_score\")) \\\n",
        "    .groupBy(\"player\") \\\n",
        "    .agg(\n",
        "        avg(\"improvement\").alias(\"avg_improvement\"),\n",
        "        min(\"improvement\").alias(\"min_improvement\"),\n",
        "        max(\"improvement\").alias(\"max_improvement\")\n",
        "    )\n",
        "trend_analysis.show()"
      ]
    },
    {
      "cell_type": "markdown",
      "id": "341dece2",
      "metadata": {
        "id": "341dece2"
      },
      "source": [
        "## 43. Transportation: Bus Utilization"
      ]
    },
    {
      "cell_type": "code",
      "execution_count": 93,
      "id": "81dadd88",
      "metadata": {
        "colab": {
          "base_uri": "https://localhost:8080/",
          "height": 0
        },
        "id": "81dadd88",
        "outputId": "e340852e-c670-4b82-98b4-8848eb691f19"
      },
      "outputs": [
        {
          "output_type": "stream",
          "name": "stdout",
          "text": [
            "+------+-------------------+\n",
            "|bus_id|    avg_utilization|\n",
            "+------+-------------------+\n",
            "|Bus003|0.16666666666666666|\n",
            "+------+-------------------+\n",
            "\n"
          ]
        }
      ],
      "source": [
        "# Sample Data\n",
        "bus_data = [\n",
        "    (\"Bus001\", 50, 15), (\"Bus001\", 50, 20),\n",
        "    (\"Bus002\", 40, 35), (\"Bus003\", 60, 10)\n",
        "]\n",
        "buses = spark.createDataFrame(bus_data, [\"bus_id\", \"capacity\", \"passengers\"])\n",
        "\n",
        "# Solution\n",
        "utilization = buses.withColumn(\"utilization\", col(\"passengers\") / col(\"capacity\")) \\\n",
        "    .groupBy(\"bus_id\") \\\n",
        "    .agg(avg(\"utilization\").alias(\"avg_utilization\")) \\\n",
        "    .filter(col(\"avg_utilization\") < 0.3)\n",
        "utilization.show()"
      ]
    },
    {
      "cell_type": "markdown",
      "id": "bcc68e35",
      "metadata": {
        "id": "bcc68e35"
      },
      "source": [
        "## 44. Retail Chains: Price Variance"
      ]
    },
    {
      "cell_type": "code",
      "execution_count": 94,
      "id": "2178d74c",
      "metadata": {
        "colab": {
          "base_uri": "https://localhost:8080/",
          "height": 0
        },
        "id": "2178d74c",
        "outputId": "54d44f59-973c-4f2b-8939-03c869831959"
      },
      "outputs": [
        {
          "output_type": "stream",
          "name": "stdout",
          "text": [
            "+--------+------+-----+\n",
            "| product| store|price|\n",
            "+--------+------+-----+\n",
            "|ProductA|Store1|10.99|\n",
            "|ProductA|Store2| 9.99|\n",
            "|ProductA|Store3|11.49|\n",
            "|ProductB|Store1|24.99|\n",
            "|ProductB|Store2|25.49|\n",
            "|ProductB|Store3|24.99|\n",
            "+--------+------+-----+\n",
            "\n"
          ]
        }
      ],
      "source": [
        "# Sample Data\n",
        "pricing_data = [\n",
        "    (\"ProductA\", \"Store1\", 10.99), (\"ProductA\", \"Store2\", 9.99),\n",
        "    (\"ProductA\", \"Store3\", 11.49), (\"ProductB\", \"Store1\", 24.99),\n",
        "    (\"ProductB\", \"Store2\", 25.49), (\"ProductB\", \"Store3\", 24.99)\n",
        "]\n",
        "pricing = spark.createDataFrame(pricing_data, [\"product\", \"store\", \"price\"])\n",
        "\n",
        "pricing.show()"
      ]
    },
    {
      "cell_type": "code",
      "source": [
        "# Solution\n",
        "price_variance = pricing.groupBy(\"product\").agg(\n",
        "    stddev(\"price\").alias(\"price_stddev\"),\n",
        "    (max(\"price\") - min(\"price\")).alias(\"price_range\")\n",
        ")\n",
        "price_variance.show()"
      ],
      "metadata": {
        "colab": {
          "base_uri": "https://localhost:8080/",
          "height": 0
        },
        "id": "zxKCUfgIIyje",
        "outputId": "5c0073ea-4e90-4674-c5a8-9ad60d513749"
      },
      "id": "zxKCUfgIIyje",
      "execution_count": 95,
      "outputs": [
        {
          "output_type": "stream",
          "name": "stdout",
          "text": [
            "+--------+------------------+-----------+\n",
            "| product|      price_stddev|price_range|\n",
            "+--------+------------------+-----------+\n",
            "|ProductA|0.7637626158259734|        1.5|\n",
            "|ProductB|0.2886751345948129|        0.5|\n",
            "+--------+------------------+-----------+\n",
            "\n"
          ]
        }
      ]
    },
    {
      "cell_type": "markdown",
      "id": "6137e638",
      "metadata": {
        "id": "6137e638"
      },
      "source": [
        "## 45. Cloud Billing: Cost Spikes"
      ]
    },
    {
      "cell_type": "code",
      "execution_count": 96,
      "id": "025ce9b3",
      "metadata": {
        "colab": {
          "base_uri": "https://localhost:8080/",
          "height": 0
        },
        "id": "025ce9b3",
        "outputId": "468e0ffe-1299-4ac8-8615-788a69a382bb"
      },
      "outputs": [
        {
          "output_type": "stream",
          "name": "stdout",
          "text": [
            "+-------+-------+----+\n",
            "|   week|service|cost|\n",
            "+-------+-------+----+\n",
            "|2023-40|Compute|1000|\n",
            "|2023-41|Compute|3000|\n",
            "|2023-40|Storage| 500|\n",
            "|2023-41|Storage| 550|\n",
            "+-------+-------+----+\n",
            "\n"
          ]
        }
      ],
      "source": [
        "# Sample Data\n",
        "billing_data = [\n",
        "    (\"2023-40\", \"Compute\", 1000), (\"2023-41\", \"Compute\", 3000),\n",
        "    (\"2023-40\", \"Storage\", 500), (\"2023-41\", \"Storage\", 550)\n",
        "]\n",
        "billing = spark.createDataFrame(billing_data, [\"week\", \"service\", \"cost\"])\n",
        "\n",
        "billing.show()"
      ]
    },
    {
      "cell_type": "code",
      "source": [
        "# Solution\n",
        "window_spec = Window.partitionBy(\"service\").orderBy(\"week\")\n",
        "cost_spikes = billing.withColumn(\"prev_cost\", lag(\"cost\").over(window_spec)) \\\n",
        "    .filter(col(\"prev_cost\").isNotNull()) \\\n",
        "    .withColumn(\"pct_change\", (col(\"cost\") - col(\"prev_cost\")) / col(\"prev_cost\")) \\\n",
        "    .filter(col(\"pct_change\") > 1.0)  # >100% increase\n",
        "cost_spikes.show()"
      ],
      "metadata": {
        "colab": {
          "base_uri": "https://localhost:8080/",
          "height": 0
        },
        "id": "Y6m4G1qzI5Vr",
        "outputId": "d44e94a2-97a1-4131-f75b-41fa87c1fc71"
      },
      "id": "Y6m4G1qzI5Vr",
      "execution_count": 97,
      "outputs": [
        {
          "output_type": "stream",
          "name": "stdout",
          "text": [
            "+-------+-------+----+---------+----------+\n",
            "|   week|service|cost|prev_cost|pct_change|\n",
            "+-------+-------+----+---------+----------+\n",
            "|2023-41|Compute|3000|     1000|       2.0|\n",
            "+-------+-------+----+---------+----------+\n",
            "\n"
          ]
        }
      ]
    },
    {
      "cell_type": "markdown",
      "id": "81f77c8c",
      "metadata": {
        "id": "81f77c8c"
      },
      "source": [
        "## 46. Customer Experience: NPS Trends"
      ]
    },
    {
      "cell_type": "code",
      "execution_count": 98,
      "id": "a5e79323",
      "metadata": {
        "colab": {
          "base_uri": "https://localhost:8080/",
          "height": 0
        },
        "id": "a5e79323",
        "outputId": "f519de8c-3736-499f-e7c1-5fa641a0a9a0"
      },
      "outputs": [
        {
          "output_type": "stream",
          "name": "stdout",
          "text": [
            "+----------+------+-----+\n",
            "|      date|region|score|\n",
            "+----------+------+-----+\n",
            "|2023-10-01| North|    8|\n",
            "|2023-10-01| South|    9|\n",
            "|2023-10-08| North|    7|\n",
            "|2023-10-08| South|    8|\n",
            "|2023-10-15| North|    9|\n",
            "|2023-10-15| South|    9|\n",
            "+----------+------+-----+\n",
            "\n"
          ]
        }
      ],
      "source": [
        "# Sample Data\n",
        "nps_data = [\n",
        "    (\"2023-10-01\", \"North\", 8), (\"2023-10-01\", \"South\", 9),\n",
        "    (\"2023-10-08\", \"North\", 7), (\"2023-10-08\", \"South\", 8),\n",
        "    (\"2023-10-15\", \"North\", 9), (\"2023-10-15\", \"South\", 9)\n",
        "]\n",
        "nps = spark.createDataFrame(nps_data, [\"date\", \"region\", \"score\"])\n",
        "\n",
        "nps.show()"
      ]
    },
    {
      "cell_type": "code",
      "source": [
        "# Solution\n",
        "nps_trends = nps.groupBy(\"region\", window(\"date\", \"1 week\")).agg(\n",
        "    avg(\"score\").alias(\"avg_nps\")\n",
        ").orderBy(\"region\", \"window.start\")\n",
        "nps_trends.select(\"region\", \"window.start\", \"avg_nps\").show()"
      ],
      "metadata": {
        "colab": {
          "base_uri": "https://localhost:8080/",
          "height": 0
        },
        "id": "FoEXNER1JA91",
        "outputId": "9519fe77-1ef1-46bc-9218-829497dcdce6"
      },
      "id": "FoEXNER1JA91",
      "execution_count": 99,
      "outputs": [
        {
          "output_type": "stream",
          "name": "stdout",
          "text": [
            "+------+-------------------+-------+\n",
            "|region|              start|avg_nps|\n",
            "+------+-------------------+-------+\n",
            "| North|2023-09-28 00:00:00|    8.0|\n",
            "| North|2023-10-05 00:00:00|    7.0|\n",
            "| North|2023-10-12 00:00:00|    9.0|\n",
            "| South|2023-09-28 00:00:00|    9.0|\n",
            "| South|2023-10-05 00:00:00|    8.0|\n",
            "| South|2023-10-12 00:00:00|    9.0|\n",
            "+------+-------------------+-------+\n",
            "\n"
          ]
        }
      ]
    },
    {
      "cell_type": "code",
      "source": [
        "spark.stop()"
      ],
      "metadata": {
        "id": "GuFWOaeTJEAz"
      },
      "id": "GuFWOaeTJEAz",
      "execution_count": 100,
      "outputs": []
    }
  ],
  "metadata": {
    "kernelspec": {
      "display_name": "Python 3",
      "language": "python",
      "name": "python3"
    },
    "language_info": {
      "codemirror_mode": {
        "name": "ipython",
        "version": 3
      },
      "file_extension": ".py",
      "mimetype": "text/x-python",
      "name": "python",
      "nbconvert_exporter": "python",
      "pygments_lexer": "ipython3",
      "version": "3.11.0"
    },
    "colab": {
      "provenance": []
    }
  },
  "nbformat": 4,
  "nbformat_minor": 5
}