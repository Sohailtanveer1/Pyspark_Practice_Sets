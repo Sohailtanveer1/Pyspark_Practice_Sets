{
  "nbformat": 4,
  "nbformat_minor": 0,
  "metadata": {
    "colab": {
      "provenance": []
    },
    "kernelspec": {
      "name": "python3",
      "display_name": "Python 3"
    },
    "language_info": {
      "name": "python"
    }
  },
  "cells": [
    {
      "cell_type": "markdown",
      "source": [
        "## Pyspark Practice Question"
      ],
      "metadata": {
        "id": "phdCAhtpNaqi"
      }
    },
    {
      "cell_type": "code",
      "execution_count": 1,
      "metadata": {
        "colab": {
          "base_uri": "https://localhost:8080/",
          "height": 219
        },
        "id": "AQ2yl4EGNROC",
        "outputId": "2e39482a-0da0-4884-ebd5-fc390d9599e6"
      },
      "outputs": [
        {
          "output_type": "execute_result",
          "data": {
            "text/plain": [
              "<pyspark.sql.session.SparkSession at 0x7b0a9e69e910>"
            ],
            "text/html": [
              "\n",
              "            <div>\n",
              "                <p><b>SparkSession - in-memory</b></p>\n",
              "                \n",
              "        <div>\n",
              "            <p><b>SparkContext</b></p>\n",
              "\n",
              "            <p><a href=\"http://f7bfa01faa42:4040\">Spark UI</a></p>\n",
              "\n",
              "            <dl>\n",
              "              <dt>Version</dt>\n",
              "                <dd><code>v3.5.1</code></dd>\n",
              "              <dt>Master</dt>\n",
              "                <dd><code>local[*]</code></dd>\n",
              "              <dt>AppName</dt>\n",
              "                <dd><code>Pyspark_Practice</code></dd>\n",
              "            </dl>\n",
              "        </div>\n",
              "        \n",
              "            </div>\n",
              "        "
            ]
          },
          "metadata": {},
          "execution_count": 1
        }
      ],
      "source": [
        "from pyspark.sql import SparkSession\n",
        "\n",
        "spark = SparkSession.builder \\\n",
        "    .appName(\"Pyspark_Practice\") \\\n",
        "    .master(\"local[*]\") \\\n",
        "    .getOrCreate()\n",
        "\n",
        "spark\n"
      ]
    },
    {
      "cell_type": "markdown",
      "source": [
        "### Basic RDD Operation"
      ],
      "metadata": {
        "id": "wyxATxHpObjm"
      }
    },
    {
      "cell_type": "code",
      "source": [
        "sc =  spark.sparkContext"
      ],
      "metadata": {
        "id": "oHvQZnuiOBPf"
      },
      "execution_count": 2,
      "outputs": []
    },
    {
      "cell_type": "code",
      "source": [
        "rdd = sc.parallelize([1,2,3,4,5])"
      ],
      "metadata": {
        "id": "8DiUCwWtOho_"
      },
      "execution_count": 3,
      "outputs": []
    },
    {
      "cell_type": "code",
      "source": [
        "rdd.collect()"
      ],
      "metadata": {
        "colab": {
          "base_uri": "https://localhost:8080/"
        },
        "id": "c-gIiZf5Olos",
        "outputId": "885b38d8-a138-4fe1-d502-fbe793639e3a"
      },
      "execution_count": 4,
      "outputs": [
        {
          "output_type": "execute_result",
          "data": {
            "text/plain": [
              "[1, 2, 3, 4, 5]"
            ]
          },
          "metadata": {},
          "execution_count": 4
        }
      ]
    },
    {
      "cell_type": "code",
      "source": [
        "# count element in rdd\n",
        "rdd.count()"
      ],
      "metadata": {
        "colab": {
          "base_uri": "https://localhost:8080/"
        },
        "id": "2L3ou68TOod_",
        "outputId": "51fcc71d-8645-469f-8257-d7ee1a63e053"
      },
      "execution_count": 5,
      "outputs": [
        {
          "output_type": "execute_result",
          "data": {
            "text/plain": [
              "5"
            ]
          },
          "metadata": {},
          "execution_count": 5
        }
      ]
    },
    {
      "cell_type": "code",
      "source": [
        "# filter even number in rdd\n",
        "\n",
        "rdd.filter(lambda x:x%2==0).collect()"
      ],
      "metadata": {
        "colab": {
          "base_uri": "https://localhost:8080/"
        },
        "id": "lY6pejJmOu0M",
        "outputId": "1257f93c-4da0-404d-dd2e-ece5589a4495"
      },
      "execution_count": 6,
      "outputs": [
        {
          "output_type": "execute_result",
          "data": {
            "text/plain": [
              "[2, 4]"
            ]
          },
          "metadata": {},
          "execution_count": 6
        }
      ]
    },
    {
      "cell_type": "code",
      "source": [
        "# find square of rdd element\n",
        "rdd.map(lambda x:x**2).collect()"
      ],
      "metadata": {
        "colab": {
          "base_uri": "https://localhost:8080/"
        },
        "id": "cADej_7EO6HW",
        "outputId": "e8782d3d-2c10-40e8-8085-5423220ab7c5"
      },
      "execution_count": 7,
      "outputs": [
        {
          "output_type": "execute_result",
          "data": {
            "text/plain": [
              "[1, 4, 9, 16, 25]"
            ]
          },
          "metadata": {},
          "execution_count": 7
        }
      ]
    },
    {
      "cell_type": "code",
      "source": [
        "# get distinct element in rdd\n",
        "rdd.distinct().collect()"
      ],
      "metadata": {
        "colab": {
          "base_uri": "https://localhost:8080/"
        },
        "id": "ISx9IPHgPCko",
        "outputId": "51537805-8e4e-4a80-caed-750aded84dd6"
      },
      "execution_count": 8,
      "outputs": [
        {
          "output_type": "execute_result",
          "data": {
            "text/plain": [
              "[2, 4, 1, 3, 5]"
            ]
          },
          "metadata": {},
          "execution_count": 8
        }
      ]
    },
    {
      "cell_type": "code",
      "source": [
        "# reduce the rdd by summing all element\n",
        "\n",
        "rdd.reduce(lambda x,y:x+y)"
      ],
      "metadata": {
        "colab": {
          "base_uri": "https://localhost:8080/"
        },
        "id": "2RP5ELJCPKUZ",
        "outputId": "75c852a2-e559-48af-b81e-4966009a40d4"
      },
      "execution_count": 9,
      "outputs": [
        {
          "output_type": "execute_result",
          "data": {
            "text/plain": [
              "15"
            ]
          },
          "metadata": {},
          "execution_count": 9
        }
      ]
    },
    {
      "cell_type": "code",
      "source": [
        "# union of two rdd\n",
        "rdd2 = sc.parallelize([5,6,7,8,9])\n",
        "rdd.union(rdd2).collect()"
      ],
      "metadata": {
        "colab": {
          "base_uri": "https://localhost:8080/"
        },
        "id": "3N_wMASbPYim",
        "outputId": "001c9129-510f-47ac-8609-1e9af505e42d"
      },
      "execution_count": 10,
      "outputs": [
        {
          "output_type": "execute_result",
          "data": {
            "text/plain": [
              "[1, 2, 3, 4, 5, 5, 6, 7, 8, 9]"
            ]
          },
          "metadata": {},
          "execution_count": 10
        }
      ]
    },
    {
      "cell_type": "code",
      "source": [
        "# intersection of two rdd\n",
        "rdd.intersection(rdd2).collect()"
      ],
      "metadata": {
        "colab": {
          "base_uri": "https://localhost:8080/"
        },
        "id": "3NzadwO4PmJH",
        "outputId": "661ae340-859d-49c0-88de-d90aa272e641"
      },
      "execution_count": 11,
      "outputs": [
        {
          "output_type": "execute_result",
          "data": {
            "text/plain": [
              "[5]"
            ]
          },
          "metadata": {},
          "execution_count": 11
        }
      ]
    },
    {
      "cell_type": "code",
      "source": [
        "# group by key\n",
        "rdd3 = sc.parallelize([(\"a\",1),(\"b\",2),(\"a\",3),(\"b\",4)])\n",
        "rdd3.groupByKey().mapValues(list).collect()"
      ],
      "metadata": {
        "colab": {
          "base_uri": "https://localhost:8080/"
        },
        "id": "h9Gg_yD9Ptib",
        "outputId": "23cac780-2e8c-40ae-aff4-244f160bb619"
      },
      "execution_count": 12,
      "outputs": [
        {
          "output_type": "execute_result",
          "data": {
            "text/plain": [
              "[('b', [2, 4]), ('a', [1, 3])]"
            ]
          },
          "metadata": {},
          "execution_count": 12
        }
      ]
    },
    {
      "cell_type": "code",
      "source": [
        "# reduce by key to sum all values\n",
        "rdd3.reduceByKey(lambda a,b:a+b).collect()"
      ],
      "metadata": {
        "colab": {
          "base_uri": "https://localhost:8080/"
        },
        "id": "JmiekjJhP_ft",
        "outputId": "137f5f3d-27b9-44ff-f7f2-14ed84ff6b7b"
      },
      "execution_count": 13,
      "outputs": [
        {
          "output_type": "execute_result",
          "data": {
            "text/plain": [
              "[('b', 6), ('a', 4)]"
            ]
          },
          "metadata": {},
          "execution_count": 13
        }
      ]
    },
    {
      "cell_type": "markdown",
      "source": [
        "### 🔹 **DataFrame Basics**"
      ],
      "metadata": {
        "id": "8gcCgJXJQRKe"
      }
    },
    {
      "cell_type": "code",
      "source": [
        "# create dataframe from list of tuples\n",
        "data = [('Alice',1),('Bob',2),('Charlie',3)]\n",
        "df = spark.createDataFrame(data,['name','age'])\n",
        "df.show()"
      ],
      "metadata": {
        "colab": {
          "base_uri": "https://localhost:8080/"
        },
        "id": "40JSP6vsQR88",
        "outputId": "0e1f55c2-c0d6-405c-bf41-5c865ffd6b09"
      },
      "execution_count": 14,
      "outputs": [
        {
          "output_type": "stream",
          "name": "stdout",
          "text": [
            "+-------+---+\n",
            "|   name|age|\n",
            "+-------+---+\n",
            "|  Alice|  1|\n",
            "|    Bob|  2|\n",
            "|Charlie|  3|\n",
            "+-------+---+\n",
            "\n"
          ]
        }
      ]
    },
    {
      "cell_type": "code",
      "source": [
        "# show schema\n",
        "df.printSchema()"
      ],
      "metadata": {
        "colab": {
          "base_uri": "https://localhost:8080/"
        },
        "id": "Qi2EBiKIQiEe",
        "outputId": "93ab099e-955a-4414-afcf-9756adb9b440"
      },
      "execution_count": 15,
      "outputs": [
        {
          "output_type": "stream",
          "name": "stdout",
          "text": [
            "root\n",
            " |-- name: string (nullable = true)\n",
            " |-- age: long (nullable = true)\n",
            "\n"
          ]
        }
      ]
    },
    {
      "cell_type": "code",
      "source": [
        "# select a column\n",
        "df.select('Name').show()"
      ],
      "metadata": {
        "colab": {
          "base_uri": "https://localhost:8080/"
        },
        "id": "5CrqFvtXQq8h",
        "outputId": "5a2f8056-2cbe-4c42-933a-ff2de715cb21"
      },
      "execution_count": 16,
      "outputs": [
        {
          "output_type": "stream",
          "name": "stdout",
          "text": [
            "+-------+\n",
            "|   Name|\n",
            "+-------+\n",
            "|  Alice|\n",
            "|    Bob|\n",
            "|Charlie|\n",
            "+-------+\n",
            "\n"
          ]
        }
      ]
    },
    {
      "cell_type": "code",
      "source": [
        "#Filter DataFrame rows\n",
        "df.select('Name').filter(df['age']>2).show()"
      ],
      "metadata": {
        "colab": {
          "base_uri": "https://localhost:8080/"
        },
        "id": "sldaKLucQz3V",
        "outputId": "34bffe4f-348d-4fdd-8fce-1f3ca76ee0fe"
      },
      "execution_count": 17,
      "outputs": [
        {
          "output_type": "stream",
          "name": "stdout",
          "text": [
            "+-------+\n",
            "|   Name|\n",
            "+-------+\n",
            "|Charlie|\n",
            "+-------+\n",
            "\n"
          ]
        }
      ]
    },
    {
      "cell_type": "code",
      "source": [
        "df.filter(df['age']==3).show()"
      ],
      "metadata": {
        "colab": {
          "base_uri": "https://localhost:8080/"
        },
        "id": "KpS9zFy3RCkL",
        "outputId": "564bfaeb-d7cf-4344-87fe-213d60d9b0c8"
      },
      "execution_count": 18,
      "outputs": [
        {
          "output_type": "stream",
          "name": "stdout",
          "text": [
            "+-------+---+\n",
            "|   name|age|\n",
            "+-------+---+\n",
            "|Charlie|  3|\n",
            "+-------+---+\n",
            "\n"
          ]
        }
      ]
    },
    {
      "cell_type": "code",
      "source": [
        "#Add new column\n",
        "df.withColumn('double_age',df['age']*2).show()"
      ],
      "metadata": {
        "colab": {
          "base_uri": "https://localhost:8080/"
        },
        "id": "OPXtlEZgRJFr",
        "outputId": "5ff70dce-2683-4653-f2e1-d1b2b0a7be6f"
      },
      "execution_count": 19,
      "outputs": [
        {
          "output_type": "stream",
          "name": "stdout",
          "text": [
            "+-------+---+----------+\n",
            "|   name|age|double_age|\n",
            "+-------+---+----------+\n",
            "|  Alice|  1|         2|\n",
            "|    Bob|  2|         4|\n",
            "|Charlie|  3|         6|\n",
            "+-------+---+----------+\n",
            "\n"
          ]
        }
      ]
    },
    {
      "cell_type": "code",
      "source": [
        "df.show()"
      ],
      "metadata": {
        "colab": {
          "base_uri": "https://localhost:8080/"
        },
        "id": "f3s6pUjfRWLs",
        "outputId": "545d1b19-be26-4edf-c552-3bbccb7a2fe9"
      },
      "execution_count": 20,
      "outputs": [
        {
          "output_type": "stream",
          "name": "stdout",
          "text": [
            "+-------+---+\n",
            "|   name|age|\n",
            "+-------+---+\n",
            "|  Alice|  1|\n",
            "|    Bob|  2|\n",
            "|Charlie|  3|\n",
            "+-------+---+\n",
            "\n"
          ]
        }
      ]
    },
    {
      "cell_type": "code",
      "source": [
        "df = df.withColumn('triple_age',df['age']*3)\n",
        "df.show()"
      ],
      "metadata": {
        "colab": {
          "base_uri": "https://localhost:8080/"
        },
        "id": "cp9EnDkLRaiF",
        "outputId": "5a86d194-00d9-4422-b715-1da0eca8470f"
      },
      "execution_count": 21,
      "outputs": [
        {
          "output_type": "stream",
          "name": "stdout",
          "text": [
            "+-------+---+----------+\n",
            "|   name|age|triple_age|\n",
            "+-------+---+----------+\n",
            "|  Alice|  1|         3|\n",
            "|    Bob|  2|         6|\n",
            "|Charlie|  3|         9|\n",
            "+-------+---+----------+\n",
            "\n"
          ]
        }
      ]
    },
    {
      "cell_type": "code",
      "source": [
        "# drop a column\n",
        "df.drop('triple_age').show()"
      ],
      "metadata": {
        "colab": {
          "base_uri": "https://localhost:8080/"
        },
        "id": "nK-Mi-QjR8dk",
        "outputId": "94583af9-3f9b-4875-dca4-3d296681fd12"
      },
      "execution_count": 22,
      "outputs": [
        {
          "output_type": "stream",
          "name": "stdout",
          "text": [
            "+-------+---+\n",
            "|   name|age|\n",
            "+-------+---+\n",
            "|  Alice|  1|\n",
            "|    Bob|  2|\n",
            "|Charlie|  3|\n",
            "+-------+---+\n",
            "\n"
          ]
        }
      ]
    },
    {
      "cell_type": "code",
      "source": [
        "# rename a column\n",
        "\n",
        "df.withColumnRenamed('age','Age').show()"
      ],
      "metadata": {
        "colab": {
          "base_uri": "https://localhost:8080/"
        },
        "id": "LIalVeB9SCLV",
        "outputId": "235cf7c6-b6c8-4b30-fc46-cdc3a296d2ab"
      },
      "execution_count": 23,
      "outputs": [
        {
          "output_type": "stream",
          "name": "stdout",
          "text": [
            "+-------+---+----------+\n",
            "|   name|Age|triple_age|\n",
            "+-------+---+----------+\n",
            "|  Alice|  1|         3|\n",
            "|    Bob|  2|         6|\n",
            "|Charlie|  3|         9|\n",
            "+-------+---+----------+\n",
            "\n"
          ]
        }
      ]
    },
    {
      "cell_type": "code",
      "source": [
        "# sort by column\n",
        "df.sort('Age',ascending = False).show()"
      ],
      "metadata": {
        "colab": {
          "base_uri": "https://localhost:8080/"
        },
        "id": "2vnLA5iBSOUm",
        "outputId": "9378e1f3-e7e4-48b1-f11b-b348ed11f96f"
      },
      "execution_count": 24,
      "outputs": [
        {
          "output_type": "stream",
          "name": "stdout",
          "text": [
            "+-------+---+----------+\n",
            "|   name|age|triple_age|\n",
            "+-------+---+----------+\n",
            "|Charlie|  3|         9|\n",
            "|    Bob|  2|         6|\n",
            "|  Alice|  1|         3|\n",
            "+-------+---+----------+\n",
            "\n"
          ]
        }
      ]
    },
    {
      "cell_type": "code",
      "source": [
        "# create dataframe from list of tuples\n",
        "data = [('Alice',1),('Bob',2),('Charlie',3),('Charlie',3),('Bob',4)]\n",
        "df = spark.createDataFrame(data,['name','age'])\n",
        "df.show()"
      ],
      "metadata": {
        "colab": {
          "base_uri": "https://localhost:8080/"
        },
        "id": "HIxd1uqiTUz7",
        "outputId": "768f228d-b1bf-4a9c-d620-4b094dc21485"
      },
      "execution_count": 45,
      "outputs": [
        {
          "output_type": "stream",
          "name": "stdout",
          "text": [
            "+-------+---+\n",
            "|   name|age|\n",
            "+-------+---+\n",
            "|  Alice|  1|\n",
            "|    Bob|  2|\n",
            "|Charlie|  3|\n",
            "|Charlie|  3|\n",
            "|    Bob|  4|\n",
            "+-------+---+\n",
            "\n"
          ]
        }
      ]
    },
    {
      "cell_type": "code",
      "source": [
        "# Group by and aggregate\n",
        "\n",
        "df.groupBy('Name').agg({\"Age\":\"sum\"}).show()"
      ],
      "metadata": {
        "colab": {
          "base_uri": "https://localhost:8080/"
        },
        "id": "UhdHsx6mSY3q",
        "outputId": "d6c16106-b251-472c-8da3-f838cfc7a21e"
      },
      "execution_count": 26,
      "outputs": [
        {
          "output_type": "stream",
          "name": "stdout",
          "text": [
            "+-------+--------+\n",
            "|   Name|sum(Age)|\n",
            "+-------+--------+\n",
            "|    Bob|       6|\n",
            "|  Alice|       1|\n",
            "|Charlie|       6|\n",
            "+-------+--------+\n",
            "\n"
          ]
        }
      ]
    },
    {
      "cell_type": "code",
      "source": [
        "# get distinct rows\n",
        "df.distinct().show()"
      ],
      "metadata": {
        "colab": {
          "base_uri": "https://localhost:8080/"
        },
        "id": "AMEFY4vWSzxb",
        "outputId": "d1298b04-252d-4bf5-a7c8-2073979f9d8a"
      },
      "execution_count": 27,
      "outputs": [
        {
          "output_type": "stream",
          "name": "stdout",
          "text": [
            "+-------+---+\n",
            "|   name|age|\n",
            "+-------+---+\n",
            "|    Bob|  2|\n",
            "|  Alice|  1|\n",
            "|Charlie|  3|\n",
            "|    Bob|  4|\n",
            "+-------+---+\n",
            "\n"
          ]
        }
      ]
    },
    {
      "cell_type": "markdown",
      "source": [
        "### 🔹 **SQL with DataFrames**"
      ],
      "metadata": {
        "id": "0HKC1mjPTgLh"
      }
    },
    {
      "cell_type": "code",
      "source": [
        "# Register DataFrame as SQL table\n",
        "\n",
        "df.createOrReplaceTempView(\"people\")"
      ],
      "metadata": {
        "id": "EA3fumf1Tfnd"
      },
      "execution_count": 28,
      "outputs": []
    },
    {
      "cell_type": "code",
      "source": [
        "# Run a query\n",
        "spark.sql(\"Select * from people where age > 2\").show()"
      ],
      "metadata": {
        "colab": {
          "base_uri": "https://localhost:8080/"
        },
        "id": "gvppLnOoTtMr",
        "outputId": "cc7046ab-029a-40d8-a959-eb39f5387eba"
      },
      "execution_count": 29,
      "outputs": [
        {
          "output_type": "stream",
          "name": "stdout",
          "text": [
            "+-------+---+\n",
            "|   name|age|\n",
            "+-------+---+\n",
            "|Charlie|  3|\n",
            "|Charlie|  3|\n",
            "|    Bob|  4|\n",
            "+-------+---+\n",
            "\n"
          ]
        }
      ]
    },
    {
      "cell_type": "code",
      "source": [
        "# count rows using SQL\n",
        "\n",
        "spark.sql(\"select count(1) from people\").show()"
      ],
      "metadata": {
        "colab": {
          "base_uri": "https://localhost:8080/"
        },
        "id": "jSswtMw1TzDh",
        "outputId": "2bbd22a8-c772-408a-a6a0-c3964afda115"
      },
      "execution_count": 30,
      "outputs": [
        {
          "output_type": "stream",
          "name": "stdout",
          "text": [
            "+--------+\n",
            "|count(1)|\n",
            "+--------+\n",
            "|       5|\n",
            "+--------+\n",
            "\n"
          ]
        }
      ]
    },
    {
      "cell_type": "code",
      "source": [
        "# case in sql\n",
        "\n",
        "spark.sql(\"select name, age, case when age > 2 then 'old' else 'young' end as age_group from people\").show()"
      ],
      "metadata": {
        "colab": {
          "base_uri": "https://localhost:8080/"
        },
        "id": "PBeb0G-wUGoz",
        "outputId": "717d216c-87bf-4067-de43-1c5c06dbb7de"
      },
      "execution_count": 31,
      "outputs": [
        {
          "output_type": "stream",
          "name": "stdout",
          "text": [
            "+-------+---+---------+\n",
            "|   name|age|age_group|\n",
            "+-------+---+---------+\n",
            "|  Alice|  1|    young|\n",
            "|    Bob|  2|    young|\n",
            "|Charlie|  3|      old|\n",
            "|Charlie|  3|      old|\n",
            "|    Bob|  4|      old|\n",
            "+-------+---+---------+\n",
            "\n"
          ]
        }
      ]
    },
    {
      "cell_type": "code",
      "source": [
        "# join two dataframes\n",
        "df2 = spark.createDataFrame([('Alice',1),('Bob',2)],['name','new_age'])\n",
        "df2.show()"
      ],
      "metadata": {
        "colab": {
          "base_uri": "https://localhost:8080/"
        },
        "id": "JqTqi-EDUVG5",
        "outputId": "d4003241-796f-4e97-a32e-6747ecb88b6c"
      },
      "execution_count": 44,
      "outputs": [
        {
          "output_type": "stream",
          "name": "stdout",
          "text": [
            "+-----+-------+\n",
            "| name|new_age|\n",
            "+-----+-------+\n",
            "|Alice|      1|\n",
            "|  Bob|      2|\n",
            "+-----+-------+\n",
            "\n"
          ]
        }
      ]
    },
    {
      "cell_type": "code",
      "source": [
        "df = df.join(df2, on='name', how='inner')\n",
        "df.show()"
      ],
      "metadata": {
        "colab": {
          "base_uri": "https://localhost:8080/"
        },
        "id": "mr3zNxs_Uk9R",
        "outputId": "f1e4da32-52b3-4cfb-ece5-85728a40e359"
      },
      "execution_count": 46,
      "outputs": [
        {
          "output_type": "stream",
          "name": "stdout",
          "text": [
            "+-----+---+-------+\n",
            "| name|age|new_age|\n",
            "+-----+---+-------+\n",
            "|Alice|  1|      1|\n",
            "|  Bob|  2|      2|\n",
            "|  Bob|  4|      2|\n",
            "+-----+---+-------+\n",
            "\n"
          ]
        }
      ]
    },
    {
      "cell_type": "markdown",
      "source": [
        "### 🔹 **Advanced Transformations**"
      ],
      "metadata": {
        "id": "peRFvFYuVGVi"
      }
    },
    {
      "cell_type": "code",
      "source": [
        "#Explode array column(transpose)\n",
        "from pyspark.sql.functions import explode\n",
        "df1 = spark.createDataFrame([([1,2,3],)], [\"numbers\"])\n",
        "df1.select(explode(df.numbers)).show()\n"
      ],
      "metadata": {
        "colab": {
          "base_uri": "https://localhost:8080/"
        },
        "id": "puS-xxDhVEgZ",
        "outputId": "7f5d3818-1ed2-4982-b110-022175557b1d"
      },
      "execution_count": 34,
      "outputs": [
        {
          "output_type": "stream",
          "name": "stdout",
          "text": [
            "+---+\n",
            "|col|\n",
            "+---+\n",
            "|  1|\n",
            "|  2|\n",
            "|  3|\n",
            "+---+\n",
            "\n"
          ]
        }
      ]
    },
    {
      "cell_type": "markdown",
      "source": [
        "Note : If your df2 DataFrame has a column with arrays (e.g., column \"letters\"), you should do:"
      ],
      "metadata": {
        "id": "F7eN-QLMV2Kg"
      }
    },
    {
      "cell_type": "code",
      "source": [
        "data = [(\"Alice\", [\"a\", \"b\", \"c\"]), (\"Bob\", [\"x\", \"y\"])]\n",
        "df2 = spark.createDataFrame(data, [\"name\", \"letters\"])\n",
        "\n",
        "\n",
        "df2.select(\"name\", explode(\"letters\").alias(\"letter\")).show()"
      ],
      "metadata": {
        "colab": {
          "base_uri": "https://localhost:8080/"
        },
        "id": "yrk8G9-0VToQ",
        "outputId": "4d38f3ad-c0f1-47bf-9af1-37ee4b007065"
      },
      "execution_count": 35,
      "outputs": [
        {
          "output_type": "stream",
          "name": "stdout",
          "text": [
            "+-----+------+\n",
            "| name|letter|\n",
            "+-----+------+\n",
            "|Alice|     a|\n",
            "|Alice|     b|\n",
            "|Alice|     c|\n",
            "|  Bob|     x|\n",
            "|  Bob|     y|\n",
            "+-----+------+\n",
            "\n"
          ]
        }
      ]
    },
    {
      "cell_type": "code",
      "source": [
        "# pivot dataframe\n",
        "df.groupBy('name').pivot(\"age\").sum(\"age\").show()"
      ],
      "metadata": {
        "colab": {
          "base_uri": "https://localhost:8080/"
        },
        "id": "zlveTTeeWD95",
        "outputId": "cd925093-6203-4fc3-ff5f-b59cab049ce9"
      },
      "execution_count": 47,
      "outputs": [
        {
          "output_type": "stream",
          "name": "stdout",
          "text": [
            "+-----+----+----+----+\n",
            "| name|   1|   2|   4|\n",
            "+-----+----+----+----+\n",
            "|Alice|   1|NULL|NULL|\n",
            "|  Bob|NULL|   2|   4|\n",
            "+-----+----+----+----+\n",
            "\n"
          ]
        }
      ]
    },
    {
      "cell_type": "code",
      "source": [
        " df.groupBy('name').pivot('age').sum('new_age').show()"
      ],
      "metadata": {
        "colab": {
          "base_uri": "https://localhost:8080/"
        },
        "id": "r139BbF-WlXG",
        "outputId": "3fda7171-7008-4fdf-9070-31fba39da327"
      },
      "execution_count": 48,
      "outputs": [
        {
          "output_type": "stream",
          "name": "stdout",
          "text": [
            "+-----+----+----+----+\n",
            "| name|   1|   2|   4|\n",
            "+-----+----+----+----+\n",
            "|Alice|   1|NULL|NULL|\n",
            "|  Bob|NULL|   2|   2|\n",
            "+-----+----+----+----+\n",
            "\n"
          ]
        }
      ]
    },
    {
      "cell_type": "code",
      "source": [
        "# window function\n",
        "from pyspark.sql.window import Window\n",
        "from pyspark.sql.functions import row_number"
      ],
      "metadata": {
        "id": "RjB8fkiyWlMa"
      },
      "execution_count": 49,
      "outputs": []
    },
    {
      "cell_type": "code",
      "source": [
        "# Sample data\n",
        "data = [\n",
        "    (\"A\", 90),\n",
        "    (\"A\", 85),\n",
        "    (\"A\", 92),\n",
        "    (\"B\", 70),\n",
        "    (\"B\", 88),\n",
        "    (\"B\", 75)\n",
        "]\n",
        "\n",
        "# Create DataFrame\n",
        "df = spark.createDataFrame(data, [\"group\", \"score\"])"
      ],
      "metadata": {
        "id": "Zry-vEzUXzq6"
      },
      "execution_count": 50,
      "outputs": []
    },
    {
      "cell_type": "code",
      "source": [
        "windowSpec = Window.partitionBy(\"group\").orderBy(df['score'].desc())\n",
        "df.withColumn(\"row_num\", row_number().over(windowSpec)).show()"
      ],
      "metadata": {
        "colab": {
          "base_uri": "https://localhost:8080/"
        },
        "id": "Xr1hv-ZwWiVC",
        "outputId": "a99158ac-e1ac-4879-ad22-316498657627"
      },
      "execution_count": 51,
      "outputs": [
        {
          "output_type": "stream",
          "name": "stdout",
          "text": [
            "+-----+-----+-------+\n",
            "|group|score|row_num|\n",
            "+-----+-----+-------+\n",
            "|    A|   92|      1|\n",
            "|    A|   90|      2|\n",
            "|    A|   85|      3|\n",
            "|    B|   88|      1|\n",
            "|    B|   75|      2|\n",
            "|    B|   70|      3|\n",
            "+-----+-----+-------+\n",
            "\n"
          ]
        }
      ]
    },
    {
      "cell_type": "code",
      "source": [
        "# Aggregate with multiple functions\n",
        "from pyspark.sql.functions import min, max\n",
        "df.agg(min(\"score\").alias('min_Score'), max(\"score\").alias('max_Score')).show()"
      ],
      "metadata": {
        "colab": {
          "base_uri": "https://localhost:8080/"
        },
        "id": "aIXNUbHEYOKB",
        "outputId": "af8d9084-0ffe-4a22-e941-f51116719420"
      },
      "execution_count": 52,
      "outputs": [
        {
          "output_type": "stream",
          "name": "stdout",
          "text": [
            "+---------+---------+\n",
            "|min_Score|max_Score|\n",
            "+---------+---------+\n",
            "|       70|       92|\n",
            "+---------+---------+\n",
            "\n"
          ]
        }
      ]
    },
    {
      "cell_type": "code",
      "source": [
        "# Add literal column\n",
        "from pyspark.sql.functions import lit\n",
        "df.withColumn(\"country\", lit(\"USA\")).show()"
      ],
      "metadata": {
        "colab": {
          "base_uri": "https://localhost:8080/"
        },
        "id": "v3SeIJcnYQ8o",
        "outputId": "2c05306e-fd3c-4ef0-9cd6-342b673e938b"
      },
      "execution_count": 53,
      "outputs": [
        {
          "output_type": "stream",
          "name": "stdout",
          "text": [
            "+-----+-----+-------+\n",
            "|group|score|country|\n",
            "+-----+-----+-------+\n",
            "|    A|   90|    USA|\n",
            "|    A|   85|    USA|\n",
            "|    A|   92|    USA|\n",
            "|    B|   70|    USA|\n",
            "|    B|   88|    USA|\n",
            "|    B|   75|    USA|\n",
            "+-----+-----+-------+\n",
            "\n"
          ]
        }
      ]
    },
    {
      "cell_type": "code",
      "source": [],
      "metadata": {
        "id": "cMojvDd4YryA"
      },
      "execution_count": null,
      "outputs": []
    },
    {
      "cell_type": "markdown",
      "source": [
        "### 🔹 **Performance and Optimization**"
      ],
      "metadata": {
        "id": "5ye2jq3uYtk9"
      }
    },
    {
      "cell_type": "code",
      "source": [
        "# Cache a DataFrame\n",
        "df.cache()"
      ],
      "metadata": {
        "colab": {
          "base_uri": "https://localhost:8080/"
        },
        "id": "P5jM5DutYur9",
        "outputId": "12c9faf2-1c2a-472e-b6c7-850285c92051"
      },
      "execution_count": 54,
      "outputs": [
        {
          "output_type": "execute_result",
          "data": {
            "text/plain": [
              "DataFrame[group: string, score: bigint]"
            ]
          },
          "metadata": {},
          "execution_count": 54
        }
      ]
    },
    {
      "cell_type": "code",
      "source": [
        "# Persist with different storage level\n",
        "from pyspark import StorageLevel\n",
        "df.persist(StorageLevel.MEMORY_AND_DISK)"
      ],
      "metadata": {
        "colab": {
          "base_uri": "https://localhost:8080/"
        },
        "id": "cjwy6v4RY-4s",
        "outputId": "6f0e6f7a-5ef3-43f6-fc81-23a4991f0757"
      },
      "execution_count": 55,
      "outputs": [
        {
          "output_type": "execute_result",
          "data": {
            "text/plain": [
              "DataFrame[group: string, score: bigint]"
            ]
          },
          "metadata": {},
          "execution_count": 55
        }
      ]
    },
    {
      "cell_type": "code",
      "source": [
        "df2 = df.withColumn('group',lit('A'))"
      ],
      "metadata": {
        "id": "cZx77BjJj5So"
      },
      "execution_count": 58,
      "outputs": []
    },
    {
      "cell_type": "code",
      "source": [
        "# Broadcast join\n",
        "from pyspark.sql.functions import broadcast\n",
        "df.join(broadcast(df2), \"group\").show()\n"
      ],
      "metadata": {
        "colab": {
          "base_uri": "https://localhost:8080/"
        },
        "id": "rIyvS9fpZHmV",
        "outputId": "ca4165af-88ab-4b6a-e715-70102a830907"
      },
      "execution_count": 60,
      "outputs": [
        {
          "output_type": "stream",
          "name": "stdout",
          "text": [
            "+-----+-----+-----+\n",
            "|group|score|score|\n",
            "+-----+-----+-----+\n",
            "|    A|   90|   90|\n",
            "|    A|   90|   85|\n",
            "|    A|   90|   92|\n",
            "|    A|   90|   70|\n",
            "|    A|   90|   88|\n",
            "|    A|   90|   75|\n",
            "|    A|   85|   90|\n",
            "|    A|   85|   85|\n",
            "|    A|   85|   92|\n",
            "|    A|   85|   70|\n",
            "|    A|   85|   88|\n",
            "|    A|   85|   75|\n",
            "|    A|   92|   90|\n",
            "|    A|   92|   85|\n",
            "|    A|   92|   92|\n",
            "|    A|   92|   70|\n",
            "|    A|   92|   88|\n",
            "|    A|   92|   75|\n",
            "+-----+-----+-----+\n",
            "\n"
          ]
        }
      ]
    },
    {
      "cell_type": "code",
      "source": [
        "# Repartition DataFrame\n",
        "df.repartition(5)"
      ],
      "metadata": {
        "colab": {
          "base_uri": "https://localhost:8080/"
        },
        "id": "fK2JyVKeZQSf",
        "outputId": "62ba8069-5efc-421b-f38f-6b21ae64ff0b"
      },
      "execution_count": 61,
      "outputs": [
        {
          "output_type": "execute_result",
          "data": {
            "text/plain": [
              "DataFrame[group: string, score: bigint]"
            ]
          },
          "metadata": {},
          "execution_count": 61
        }
      ]
    },
    {
      "cell_type": "code",
      "source": [
        "# Coalesce partitions\n",
        "df.coalesce(1)"
      ],
      "metadata": {
        "colab": {
          "base_uri": "https://localhost:8080/"
        },
        "id": "Z8FVYCY6ZUH3",
        "outputId": "1b748161-903f-4f57-801b-b1c6c58d45ea"
      },
      "execution_count": 62,
      "outputs": [
        {
          "output_type": "execute_result",
          "data": {
            "text/plain": [
              "DataFrame[group: string, score: bigint]"
            ]
          },
          "metadata": {},
          "execution_count": 62
        }
      ]
    },
    {
      "cell_type": "markdown",
      "source": [
        "### 🔹 **File I/O**"
      ],
      "metadata": {
        "id": "OFzxyStvZXDk"
      }
    },
    {
      "cell_type": "code",
      "source": [
        "# read a csv file\n",
        "uber_df = spark.read.csv(\"/content/uber_data.csv\", header=True, inferSchema=True)\n",
        "uber_df.show(5)\n"
      ],
      "metadata": {
        "colab": {
          "base_uri": "https://localhost:8080/"
        },
        "id": "PpKuvn5SZXrN",
        "outputId": "9775b198-d9e3-462b-c796-55fc83d0c06a"
      },
      "execution_count": 73,
      "outputs": [
        {
          "output_type": "stream",
          "name": "stdout",
          "text": [
            "+--------+--------------------+---------------------+---------------+-------------+------------------+------------------+----------+------------------+------------------+------------------+------------+-----------+-----+-------+----------+------------+---------------------+------------+\n",
            "|VendorID|tpep_pickup_datetime|tpep_dropoff_datetime|passenger_count|trip_distance|  pickup_longitude|   pickup_latitude|RatecodeID|store_and_fwd_flag| dropoff_longitude|  dropoff_latitude|payment_type|fare_amount|extra|mta_tax|tip_amount|tolls_amount|improvement_surcharge|total_amount|\n",
            "+--------+--------------------+---------------------+---------------+-------------+------------------+------------------+----------+------------------+------------------+------------------+------------+-----------+-----+-------+----------+------------+---------------------+------------+\n",
            "|       1| 2016-03-01 00:00:00|  2016-03-01 00:07:55|              1|          2.5|-73.97674560546875|40.765151977539055|         1|                 N|-74.00426483154298| 40.74612808227539|           1|        9.0|  0.5|    0.5|      2.05|         0.0|                  0.3|       12.35|\n",
            "|       1| 2016-03-01 00:00:00|  2016-03-01 00:11:06|              1|          2.9|-73.98348236083984|40.767925262451165|         1|                 N|-74.00594329833984|  40.7331657409668|           1|       11.0|  0.5|    0.5|      3.05|         0.0|                  0.3|       15.35|\n",
            "|       2| 2016-03-01 00:00:00|  2016-03-01 00:31:06|              2|        19.98|-73.78202056884764| 40.64480972290039|         1|                 N|-73.97454071044923|  40.6757698059082|           1|       54.5|  0.5|    0.5|       8.0|         0.0|                  0.3|        63.8|\n",
            "|       2| 2016-03-01 00:00:00|  2016-03-01 00:00:00|              3|        10.78|-73.86341857910156|40.769813537597656|         1|                 N|-73.96965026855469|40.757766723632805|           1|       31.5|  0.0|    0.5|      3.78|        5.54|                  0.3|       41.62|\n",
            "|       2| 2016-03-01 00:00:00|  2016-03-01 00:00:00|              5|        30.43|-73.97174072265625| 40.79218292236328|         3|                 N|-74.17716979980467| 40.69505310058594|           1|       98.0|  0.0|    0.0|       0.0|        15.5|                  0.3|       113.8|\n",
            "+--------+--------------------+---------------------+---------------+-------------+------------------+------------------+----------+------------------+------------------+------------------+------------+-----------+-----+-------+----------+------------+---------------------+------------+\n",
            "only showing top 5 rows\n",
            "\n"
          ]
        }
      ]
    },
    {
      "cell_type": "code",
      "source": [
        "sample_json = [{\"name\": \"Alice\", \"age\": 30, \"city\": \"New York\"},\n",
        "  {\"name\": \"Bob\", \"age\": 25, \"city\": \"San Francisco\"},\n",
        "  {\"name\": \"Charlie\", \"age\": 35, \"city\": \"Chicago\"}]\n"
      ],
      "metadata": {
        "id": "KMd2dYttetpy"
      },
      "execution_count": null,
      "outputs": []
    },
    {
      "cell_type": "code",
      "source": [
        "# read from a json\n",
        "sample_df = spark.read.json('/content/sample_test_json.json')\n",
        "sample_df.show()"
      ],
      "metadata": {
        "colab": {
          "base_uri": "https://localhost:8080/"
        },
        "id": "cAKkhM1xdoU6",
        "outputId": "d5cc275d-2867-46ce-cf90-3b50ffcb8822"
      },
      "execution_count": 64,
      "outputs": [
        {
          "output_type": "stream",
          "name": "stdout",
          "text": [
            "+---+-------------+-------+\n",
            "|age|         city|   name|\n",
            "+---+-------------+-------+\n",
            "| 30|     New York|  Alice|\n",
            "| 25|San Francisco|    Bob|\n",
            "| 35|      Chicago|Charlie|\n",
            "+---+-------------+-------+\n",
            "\n"
          ]
        }
      ]
    },
    {
      "cell_type": "code",
      "source": [
        "uber_df.show(5)"
      ],
      "metadata": {
        "colab": {
          "base_uri": "https://localhost:8080/"
        },
        "id": "x6uXmBB8kk-Y",
        "outputId": "a3a7ed5d-cec7-45c8-bf21-f4a51a729384"
      },
      "execution_count": 72,
      "outputs": [
        {
          "output_type": "stream",
          "name": "stdout",
          "text": [
            "+--------+--------------------+---------------------+---------------+-------------+------------------+------------------+----------+------------------+------------------+------------------+------------+-----------+-----+-------+----------+------------+---------------------+------------+\n",
            "|VendorID|tpep_pickup_datetime|tpep_dropoff_datetime|passenger_count|trip_distance|  pickup_longitude|   pickup_latitude|RatecodeID|store_and_fwd_flag| dropoff_longitude|  dropoff_latitude|payment_type|fare_amount|extra|mta_tax|tip_amount|tolls_amount|improvement_surcharge|total_amount|\n",
            "+--------+--------------------+---------------------+---------------+-------------+------------------+------------------+----------+------------------+------------------+------------------+------------+-----------+-----+-------+----------+------------+---------------------+------------+\n",
            "|       1| 2016-03-01 00:00:00|  2016-03-01 00:07:55|              1|          2.5|-73.97674560546875|40.765151977539055|         1|                 N|-74.00426483154298| 40.74612808227539|           1|        9.0|  0.5|    0.5|      2.05|         0.0|                  0.3|       12.35|\n",
            "|       1| 2016-03-01 00:00:00|  2016-03-01 00:11:06|              1|          2.9|-73.98348236083984|40.767925262451165|         1|                 N|-74.00594329833984|  40.7331657409668|           1|       11.0|  0.5|    0.5|      3.05|         0.0|                  0.3|       15.35|\n",
            "|       2| 2016-03-01 00:00:00|  2016-03-01 00:31:06|              2|        19.98|-73.78202056884764| 40.64480972290039|         1|                 N|-73.97454071044923|  40.6757698059082|           1|       54.5|  0.5|    0.5|       8.0|         0.0|                  0.3|        63.8|\n",
            "|       2| 2016-03-01 00:00:00|  2016-03-01 00:00:00|              3|        10.78|-73.86341857910156|40.769813537597656|         1|                 N|-73.96965026855469|40.757766723632805|           1|       31.5|  0.0|    0.5|      3.78|        5.54|                  0.3|       41.62|\n",
            "|       2| 2016-03-01 00:00:00|  2016-03-01 00:00:00|              5|        30.43|-73.97174072265625| 40.79218292236328|         3|                 N|-74.17716979980467| 40.69505310058594|           1|       98.0|  0.0|    0.0|       0.0|        15.5|                  0.3|       113.8|\n",
            "+--------+--------------------+---------------------+---------------+-------------+------------------+------------------+----------+------------------+------------------+------------------+------------+-----------+-----+-------+----------+------------+---------------------+------------+\n",
            "only showing top 5 rows\n",
            "\n"
          ]
        }
      ]
    },
    {
      "cell_type": "code",
      "source": [
        "# Write DataFrame to Parquet\n",
        "uber_df.write.mode('overwrite').parquet(\"/content/uber_output/\")"
      ],
      "metadata": {
        "id": "DBdnfkSTe-IV"
      },
      "execution_count": 82,
      "outputs": []
    },
    {
      "cell_type": "code",
      "source": [
        "# Write DataFrame as CSV\n",
        "\n",
        "df.write.option(\"header\", True).mode('overwrite').csv(\"/content/output_csv/\")"
      ],
      "metadata": {
        "id": "k6MFqberfKrq"
      },
      "execution_count": 83,
      "outputs": []
    },
    {
      "cell_type": "code",
      "source": [
        "# Read Parquet\n",
        "parquet_df = spark.read.parquet(\"/content/uber_output/\")\n",
        "parquet_df.show(5)"
      ],
      "metadata": {
        "colab": {
          "base_uri": "https://localhost:8080/"
        },
        "id": "P7yozFBcfciD",
        "outputId": "042592db-a593-41f1-f102-be863993a99a"
      },
      "execution_count": 84,
      "outputs": [
        {
          "output_type": "stream",
          "name": "stdout",
          "text": [
            "+--------+--------------------+---------------------+---------------+-------------+------------------+------------------+----------+------------------+------------------+------------------+------------+-----------+-----+-------+----------+------------+---------------------+------------+\n",
            "|VendorID|tpep_pickup_datetime|tpep_dropoff_datetime|passenger_count|trip_distance|  pickup_longitude|   pickup_latitude|RatecodeID|store_and_fwd_flag| dropoff_longitude|  dropoff_latitude|payment_type|fare_amount|extra|mta_tax|tip_amount|tolls_amount|improvement_surcharge|total_amount|\n",
            "+--------+--------------------+---------------------+---------------+-------------+------------------+------------------+----------+------------------+------------------+------------------+------------+-----------+-----+-------+----------+------------+---------------------+------------+\n",
            "|       1| 2016-03-01 00:00:00|  2016-03-01 00:07:55|              1|          2.5|-73.97674560546875|40.765151977539055|         1|                 N|-74.00426483154298| 40.74612808227539|           1|        9.0|  0.5|    0.5|      2.05|         0.0|                  0.3|       12.35|\n",
            "|       1| 2016-03-01 00:00:00|  2016-03-01 00:11:06|              1|          2.9|-73.98348236083984|40.767925262451165|         1|                 N|-74.00594329833984|  40.7331657409668|           1|       11.0|  0.5|    0.5|      3.05|         0.0|                  0.3|       15.35|\n",
            "|       2| 2016-03-01 00:00:00|  2016-03-01 00:31:06|              2|        19.98|-73.78202056884764| 40.64480972290039|         1|                 N|-73.97454071044923|  40.6757698059082|           1|       54.5|  0.5|    0.5|       8.0|         0.0|                  0.3|        63.8|\n",
            "|       2| 2016-03-01 00:00:00|  2016-03-01 00:00:00|              3|        10.78|-73.86341857910156|40.769813537597656|         1|                 N|-73.96965026855469|40.757766723632805|           1|       31.5|  0.0|    0.5|      3.78|        5.54|                  0.3|       41.62|\n",
            "|       2| 2016-03-01 00:00:00|  2016-03-01 00:00:00|              5|        30.43|-73.97174072265625| 40.79218292236328|         3|                 N|-74.17716979980467| 40.69505310058594|           1|       98.0|  0.0|    0.0|       0.0|        15.5|                  0.3|       113.8|\n",
            "+--------+--------------------+---------------------+---------------+-------------+------------------+------------------+----------+------------------+------------------+------------------+------------+-----------+-----+-------+----------+------------+---------------------+------------+\n",
            "only showing top 5 rows\n",
            "\n"
          ]
        }
      ]
    },
    {
      "cell_type": "code",
      "source": [],
      "metadata": {
        "id": "VfQOPaOofcdc"
      },
      "execution_count": null,
      "outputs": []
    },
    {
      "cell_type": "markdown",
      "source": [
        "### 🔹 **Date and Time Handling**"
      ],
      "metadata": {
        "id": "h1ru66kgfqee"
      }
    },
    {
      "cell_type": "code",
      "source": [
        "from pyspark.sql.functions import current_date\n",
        "\n",
        "# current date\n",
        "df = df.withColumn(\"today\", current_date())"
      ],
      "metadata": {
        "id": "eoTIWjUAfrG6"
      },
      "execution_count": 85,
      "outputs": []
    },
    {
      "cell_type": "code",
      "source": [
        "df.show()"
      ],
      "metadata": {
        "colab": {
          "base_uri": "https://localhost:8080/"
        },
        "id": "sh5EEo1VgGsa",
        "outputId": "3f582c8e-a51e-4872-9bf8-c75481e607ba"
      },
      "execution_count": 86,
      "outputs": [
        {
          "output_type": "stream",
          "name": "stdout",
          "text": [
            "+-----+-----+----------+\n",
            "|group|score|     today|\n",
            "+-----+-----+----------+\n",
            "|    A|   90|2025-07-23|\n",
            "|    A|   85|2025-07-23|\n",
            "|    A|   92|2025-07-23|\n",
            "|    B|   70|2025-07-23|\n",
            "|    B|   88|2025-07-23|\n",
            "|    B|   75|2025-07-23|\n",
            "+-----+-----+----------+\n",
            "\n"
          ]
        }
      ]
    },
    {
      "cell_type": "code",
      "source": [
        "# Extract year/month\n",
        "from pyspark.sql.functions import year, month\n",
        "\n",
        "df = df.withColumn(\"year\", year(\"today\"))\n",
        "df.show()"
      ],
      "metadata": {
        "colab": {
          "base_uri": "https://localhost:8080/"
        },
        "id": "9BLokOXsfxIs",
        "outputId": "f6734b64-7e0f-4f6e-8efd-8ffaeccd7d99"
      },
      "execution_count": 87,
      "outputs": [
        {
          "output_type": "stream",
          "name": "stdout",
          "text": [
            "+-----+-----+----------+----+\n",
            "|group|score|     today|year|\n",
            "+-----+-----+----------+----+\n",
            "|    A|   90|2025-07-23|2025|\n",
            "|    A|   85|2025-07-23|2025|\n",
            "|    A|   92|2025-07-23|2025|\n",
            "|    B|   70|2025-07-23|2025|\n",
            "|    B|   88|2025-07-23|2025|\n",
            "|    B|   75|2025-07-23|2025|\n",
            "+-----+-----+----------+----+\n",
            "\n"
          ]
        }
      ]
    },
    {
      "cell_type": "code",
      "source": [
        "df = df.withColumn(\"month\", month(\"today\"))\n",
        "df.show()"
      ],
      "metadata": {
        "colab": {
          "base_uri": "https://localhost:8080/"
        },
        "id": "DNe1e-4rgNpZ",
        "outputId": "a2c6fa2f-bd08-4809-8faf-3629d7f5799e"
      },
      "execution_count": 88,
      "outputs": [
        {
          "output_type": "stream",
          "name": "stdout",
          "text": [
            "+-----+-----+----------+----+-----+\n",
            "|group|score|     today|year|month|\n",
            "+-----+-----+----------+----+-----+\n",
            "|    A|   90|2025-07-23|2025|    7|\n",
            "|    A|   85|2025-07-23|2025|    7|\n",
            "|    A|   92|2025-07-23|2025|    7|\n",
            "|    B|   70|2025-07-23|2025|    7|\n",
            "|    B|   88|2025-07-23|2025|    7|\n",
            "|    B|   75|2025-07-23|2025|    7|\n",
            "+-----+-----+----------+----+-----+\n",
            "\n"
          ]
        }
      ]
    },
    {
      "cell_type": "code",
      "source": [
        "df = df.withColumn(\"start\", lit('2025-07-20'))\n",
        "df.show()"
      ],
      "metadata": {
        "colab": {
          "base_uri": "https://localhost:8080/"
        },
        "id": "H91tirDZgZ87",
        "outputId": "eee5d82a-dfca-47cb-a85b-4f798da1728e"
      },
      "execution_count": 89,
      "outputs": [
        {
          "output_type": "stream",
          "name": "stdout",
          "text": [
            "+-----+-----+----------+----+-----+----------+\n",
            "|group|score|     today|year|month|     start|\n",
            "+-----+-----+----------+----+-----+----------+\n",
            "|    A|   90|2025-07-23|2025|    7|2025-07-20|\n",
            "|    A|   85|2025-07-23|2025|    7|2025-07-20|\n",
            "|    A|   92|2025-07-23|2025|    7|2025-07-20|\n",
            "|    B|   70|2025-07-23|2025|    7|2025-07-20|\n",
            "|    B|   88|2025-07-23|2025|    7|2025-07-20|\n",
            "|    B|   75|2025-07-23|2025|    7|2025-07-20|\n",
            "+-----+-----+----------+----+-----+----------+\n",
            "\n"
          ]
        }
      ]
    },
    {
      "cell_type": "code",
      "source": [
        "#Date difference\n",
        "from pyspark.sql.functions import datediff\n",
        "df = df.withColumn(\"days_diff\", datediff(\"today\", \"start\"))\n",
        "df.show()"
      ],
      "metadata": {
        "colab": {
          "base_uri": "https://localhost:8080/"
        },
        "id": "Usz7_QOqgSa6",
        "outputId": "97b1fa14-fa16-4bf9-c421-28759d08fba8"
      },
      "execution_count": 90,
      "outputs": [
        {
          "output_type": "stream",
          "name": "stdout",
          "text": [
            "+-----+-----+----------+----+-----+----------+---------+\n",
            "|group|score|     today|year|month|     start|days_diff|\n",
            "+-----+-----+----------+----+-----+----------+---------+\n",
            "|    A|   90|2025-07-23|2025|    7|2025-07-20|        3|\n",
            "|    A|   85|2025-07-23|2025|    7|2025-07-20|        3|\n",
            "|    A|   92|2025-07-23|2025|    7|2025-07-20|        3|\n",
            "|    B|   70|2025-07-23|2025|    7|2025-07-20|        3|\n",
            "|    B|   88|2025-07-23|2025|    7|2025-07-20|        3|\n",
            "|    B|   75|2025-07-23|2025|    7|2025-07-20|        3|\n",
            "+-----+-----+----------+----+-----+----------+---------+\n",
            "\n"
          ]
        }
      ]
    },
    {
      "cell_type": "code",
      "source": [
        "# Add days to date\n",
        "\n",
        "from pyspark.sql.functions import date_add\n",
        "df = df.withColumn(\"next_day\", date_add(\"today\", 1))\n",
        "df.show()"
      ],
      "metadata": {
        "colab": {
          "base_uri": "https://localhost:8080/"
        },
        "id": "NWINnVNlgrRt",
        "outputId": "759eae8a-315a-48b1-c065-6df493605d2f"
      },
      "execution_count": 91,
      "outputs": [
        {
          "output_type": "stream",
          "name": "stdout",
          "text": [
            "+-----+-----+----------+----+-----+----------+---------+----------+\n",
            "|group|score|     today|year|month|     start|days_diff|  next_day|\n",
            "+-----+-----+----------+----+-----+----------+---------+----------+\n",
            "|    A|   90|2025-07-23|2025|    7|2025-07-20|        3|2025-07-24|\n",
            "|    A|   85|2025-07-23|2025|    7|2025-07-20|        3|2025-07-24|\n",
            "|    A|   92|2025-07-23|2025|    7|2025-07-20|        3|2025-07-24|\n",
            "|    B|   70|2025-07-23|2025|    7|2025-07-20|        3|2025-07-24|\n",
            "|    B|   88|2025-07-23|2025|    7|2025-07-20|        3|2025-07-24|\n",
            "|    B|   75|2025-07-23|2025|    7|2025-07-20|        3|2025-07-24|\n",
            "+-----+-----+----------+----+-----+----------+---------+----------+\n",
            "\n"
          ]
        }
      ]
    },
    {
      "cell_type": "code",
      "source": [
        "df.printSchema()"
      ],
      "metadata": {
        "colab": {
          "base_uri": "https://localhost:8080/"
        },
        "id": "VV-W11lEg7sE",
        "outputId": "533ac58b-ff4a-4aab-ea35-97768a9f838e"
      },
      "execution_count": 92,
      "outputs": [
        {
          "output_type": "stream",
          "name": "stdout",
          "text": [
            "root\n",
            " |-- group: string (nullable = true)\n",
            " |-- score: long (nullable = true)\n",
            " |-- today: date (nullable = false)\n",
            " |-- year: integer (nullable = false)\n",
            " |-- month: integer (nullable = false)\n",
            " |-- start: string (nullable = false)\n",
            " |-- days_diff: integer (nullable = true)\n",
            " |-- next_day: date (nullable = false)\n",
            "\n"
          ]
        }
      ]
    },
    {
      "cell_type": "code",
      "source": [
        "# Convert string to date\n",
        "\n",
        "from pyspark.sql.functions import to_date\n",
        "df = df.withColumn('start_date',to_date(\"start\",\"yyyy-MM-dd\"))\n",
        "df.show()"
      ],
      "metadata": {
        "colab": {
          "base_uri": "https://localhost:8080/"
        },
        "id": "Nra5H82dgxNb",
        "outputId": "fa373d25-cd68-4960-e4b4-04f5e1754288"
      },
      "execution_count": 93,
      "outputs": [
        {
          "output_type": "stream",
          "name": "stdout",
          "text": [
            "+-----+-----+----------+----+-----+----------+---------+----------+----------+\n",
            "|group|score|     today|year|month|     start|days_diff|  next_day|start_date|\n",
            "+-----+-----+----------+----+-----+----------+---------+----------+----------+\n",
            "|    A|   90|2025-07-23|2025|    7|2025-07-20|        3|2025-07-24|2025-07-20|\n",
            "|    A|   85|2025-07-23|2025|    7|2025-07-20|        3|2025-07-24|2025-07-20|\n",
            "|    A|   92|2025-07-23|2025|    7|2025-07-20|        3|2025-07-24|2025-07-20|\n",
            "|    B|   70|2025-07-23|2025|    7|2025-07-20|        3|2025-07-24|2025-07-20|\n",
            "|    B|   88|2025-07-23|2025|    7|2025-07-20|        3|2025-07-24|2025-07-20|\n",
            "|    B|   75|2025-07-23|2025|    7|2025-07-20|        3|2025-07-24|2025-07-20|\n",
            "+-----+-----+----------+----+-----+----------+---------+----------+----------+\n",
            "\n"
          ]
        }
      ]
    },
    {
      "cell_type": "code",
      "source": [
        "df.printSchema()"
      ],
      "metadata": {
        "colab": {
          "base_uri": "https://localhost:8080/"
        },
        "id": "ES41rmnrhHxo",
        "outputId": "9508d629-4033-4c03-e6b4-822007c12824"
      },
      "execution_count": 94,
      "outputs": [
        {
          "output_type": "stream",
          "name": "stdout",
          "text": [
            "root\n",
            " |-- group: string (nullable = true)\n",
            " |-- score: long (nullable = true)\n",
            " |-- today: date (nullable = false)\n",
            " |-- year: integer (nullable = false)\n",
            " |-- month: integer (nullable = false)\n",
            " |-- start: string (nullable = false)\n",
            " |-- days_diff: integer (nullable = true)\n",
            " |-- next_day: date (nullable = false)\n",
            " |-- start_date: date (nullable = true)\n",
            "\n"
          ]
        }
      ]
    },
    {
      "cell_type": "markdown",
      "source": [
        "### 🔹 **Miscellaneous**"
      ],
      "metadata": {
        "id": "IRQSHtANhLDF"
      }
    },
    {
      "cell_type": "code",
      "source": [
        "# check spark version\n",
        "spark.version"
      ],
      "metadata": {
        "colab": {
          "base_uri": "https://localhost:8080/",
          "height": 35
        },
        "id": "mAvA8GGDhOaE",
        "outputId": "0c750121-8837-4e42-aa12-12ad050cbd29"
      },
      "execution_count": 95,
      "outputs": [
        {
          "output_type": "execute_result",
          "data": {
            "text/plain": [
              "'3.5.1'"
            ],
            "application/vnd.google.colaboratory.intrinsic+json": {
              "type": "string"
            }
          },
          "metadata": {},
          "execution_count": 95
        }
      ]
    },
    {
      "cell_type": "code",
      "source": [
        "# Convert RDD to DataFrame\n",
        "rdd = sc.parallelize([(1,'ALICE'),(2,'BOB'),(3,None)])\n",
        "df_new = rdd.toDF([\"id\",\"name\"])\n",
        "df_new.show()"
      ],
      "metadata": {
        "colab": {
          "base_uri": "https://localhost:8080/"
        },
        "id": "_oVMari_hSLd",
        "outputId": "80318324-4f14-4eb5-e17d-9274937ddb0e"
      },
      "execution_count": 96,
      "outputs": [
        {
          "output_type": "stream",
          "name": "stdout",
          "text": [
            "+---+-----+\n",
            "| id| name|\n",
            "+---+-----+\n",
            "|  1|ALICE|\n",
            "|  2|  BOB|\n",
            "|  3| NULL|\n",
            "+---+-----+\n",
            "\n"
          ]
        }
      ]
    },
    {
      "cell_type": "code",
      "source": [
        "df_new.first()"
      ],
      "metadata": {
        "colab": {
          "base_uri": "https://localhost:8080/"
        },
        "id": "4G4W7NLshupI",
        "outputId": "6898d613-719f-46cb-c16a-05d7f4a9bcfd"
      },
      "execution_count": 97,
      "outputs": [
        {
          "output_type": "execute_result",
          "data": {
            "text/plain": [
              "Row(id=1, name='ALICE')"
            ]
          },
          "metadata": {},
          "execution_count": 97
        }
      ]
    },
    {
      "cell_type": "code",
      "source": [
        "from pyspark.sql.functions import col, isnull\n",
        "df_new.filter(isnull(col(\"name\"))).count()"
      ],
      "metadata": {
        "colab": {
          "base_uri": "https://localhost:8080/"
        },
        "id": "qkB1xGW3hyor",
        "outputId": "ec15a05e-fd42-48fe-9805-8e8bc3e68129"
      },
      "execution_count": 98,
      "outputs": [
        {
          "output_type": "execute_result",
          "data": {
            "text/plain": [
              "1"
            ]
          },
          "metadata": {},
          "execution_count": 98
        }
      ]
    },
    {
      "cell_type": "code",
      "source": [
        "spark.stop()"
      ],
      "metadata": {
        "id": "e5aSgnixiSvP"
      },
      "execution_count": 99,
      "outputs": []
    }
  ]
}